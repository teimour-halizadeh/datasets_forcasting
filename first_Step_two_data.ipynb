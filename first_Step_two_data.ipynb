{
 "cells": [
  {
   "cell_type": "code",
   "execution_count": 67,
   "id": "bce03d17-9b58-44ba-8aed-eb016815bc85",
   "metadata": {},
   "outputs": [],
   "source": [
    "import numpy as np\n",
    "import pandas as pd\n",
    "\n",
    "import matplotlib.pyplot as plt\n",
    "\n",
    "import os\n",
    "from pathlib import Path\n",
    "\n",
    "from tqdm.autonotebook import tqdm\n",
    "\n",
    "\n",
    "\n"
   ]
  },
  {
   "cell_type": "code",
   "execution_count": 68,
   "id": "5facb7ee",
   "metadata": {},
   "outputs": [],
   "source": [
    "# The goal of this notebook is to pick a handful of households from\n",
    "# the data set while ending up with as minimum Nan as possible!\n"
   ]
  },
  {
   "cell_type": "code",
   "execution_count": 69,
   "id": "b363d00d-7f4d-494a-8317-938e30a66590",
   "metadata": {},
   "outputs": [],
   "source": [
    "# We are using already clean data.!\n",
    "source_data = Path(\"./london_dataset/\")\n",
    "block_data_path = source_data/'halfhourly_dataset'/'halfhourly_dataset'/'two_block'\n"
   ]
  },
  {
   "cell_type": "code",
   "execution_count": 70,
   "id": "33d1bfe9-fd32-4f13-8c53-2a5d12e66df5",
   "metadata": {},
   "outputs": [
    {
     "data": {
      "text/html": [
       "<div>\n",
       "<style scoped>\n",
       "    .dataframe tbody tr th:only-of-type {\n",
       "        vertical-align: middle;\n",
       "    }\n",
       "\n",
       "    .dataframe tbody tr th {\n",
       "        vertical-align: top;\n",
       "    }\n",
       "\n",
       "    .dataframe thead th {\n",
       "        text-align: right;\n",
       "    }\n",
       "</style>\n",
       "<table border=\"1\" class=\"dataframe\">\n",
       "  <thead>\n",
       "    <tr style=\"text-align: right;\">\n",
       "      <th></th>\n",
       "      <th>LCLid</th>\n",
       "      <th>tstp</th>\n",
       "      <th>energy(kWh/hh)</th>\n",
       "    </tr>\n",
       "  </thead>\n",
       "  <tbody>\n",
       "    <tr>\n",
       "      <th>0</th>\n",
       "      <td>MAC000323</td>\n",
       "      <td>2012-03-06 14:00:00</td>\n",
       "      <td>0.488</td>\n",
       "    </tr>\n",
       "    <tr>\n",
       "      <th>1</th>\n",
       "      <td>MAC000323</td>\n",
       "      <td>2012-03-06 14:30:00</td>\n",
       "      <td>0.449</td>\n",
       "    </tr>\n",
       "    <tr>\n",
       "      <th>2</th>\n",
       "      <td>MAC000323</td>\n",
       "      <td>2012-03-06 15:00:00</td>\n",
       "      <td>0.424</td>\n",
       "    </tr>\n",
       "    <tr>\n",
       "      <th>3</th>\n",
       "      <td>MAC000323</td>\n",
       "      <td>2012-03-06 15:30:00</td>\n",
       "      <td>0.439</td>\n",
       "    </tr>\n",
       "    <tr>\n",
       "      <th>4</th>\n",
       "      <td>MAC000323</td>\n",
       "      <td>2012-03-06 16:00:00</td>\n",
       "      <td>0.291</td>\n",
       "    </tr>\n",
       "  </tbody>\n",
       "</table>\n",
       "</div>"
      ],
      "text/plain": [
       "       LCLid                tstp energy(kWh/hh)\n",
       "0  MAC000323 2012-03-06 14:00:00         0.488 \n",
       "1  MAC000323 2012-03-06 14:30:00         0.449 \n",
       "2  MAC000323 2012-03-06 15:00:00         0.424 \n",
       "3  MAC000323 2012-03-06 15:30:00         0.439 \n",
       "4  MAC000323 2012-03-06 16:00:00         0.291 "
      ]
     },
     "execution_count": 70,
     "metadata": {},
     "output_type": "execute_result"
    }
   ],
   "source": [
    "block_1 = pd.read_csv(block_data_path/\"block_1.csv\", parse_dates=False)\n",
    "block_1['tstp'] = pd.to_datetime(block_1['tstp'], yearfirst=True)\n",
    "block_1.head()\n",
    "\n",
    "# this is a sample from data!"
   ]
  },
  {
   "cell_type": "code",
   "execution_count": 71,
   "id": "7cb24b33",
   "metadata": {},
   "outputs": [],
   "source": [
    "# check for the NAN\n",
    "\n",
    "# check_nan = 0\n",
    "# for f in tqdm(block_data_path.glob(\"*.csv\")):\n",
    "#     df = pd.read_csv(f, parse_dates=False, dtype=object)\n",
    "#     check_nan += df.isnull().sum().sum()\n",
    "# print(f\"How many Nan did we have?: {check_nan}\")\n",
    "# print('Data is clean!')\n",
    "# del df\n"
   ]
  },
  {
   "cell_type": "code",
   "execution_count": 72,
   "id": "b7ca74d5",
   "metadata": {},
   "outputs": [
    {
     "name": "stderr",
     "output_type": "stream",
     "text": [
      "2it [00:02,  1.40s/it]\n"
     ]
    }
   ],
   "source": [
    "# get the maximum end date and the length of each series:\n",
    "\n",
    "list_data_prop = []\n",
    "for f in tqdm(block_data_path.glob(\"*.csv\")):\n",
    "    df = pd.read_csv(f, parse_dates=False, dtype=object)\n",
    "    df['tstp'] = pd.to_datetime(df['tstp'], yearfirst=True)\n",
    "    list_data_prop.append(df.groupby('LCLid')['tstp'].agg(['min', 'max', 'count' ]))"
   ]
  },
  {
   "cell_type": "code",
   "execution_count": 73,
   "id": "6b9b117f",
   "metadata": {},
   "outputs": [
    {
     "data": {
      "text/html": [
       "<div>\n",
       "<style scoped>\n",
       "    .dataframe tbody tr th:only-of-type {\n",
       "        vertical-align: middle;\n",
       "    }\n",
       "\n",
       "    .dataframe tbody tr th {\n",
       "        vertical-align: top;\n",
       "    }\n",
       "\n",
       "    .dataframe thead th {\n",
       "        text-align: right;\n",
       "    }\n",
       "</style>\n",
       "<table border=\"1\" class=\"dataframe\">\n",
       "  <thead>\n",
       "    <tr style=\"text-align: right;\">\n",
       "      <th></th>\n",
       "      <th>min</th>\n",
       "      <th>max</th>\n",
       "      <th>count</th>\n",
       "    </tr>\n",
       "    <tr>\n",
       "      <th>LCLid</th>\n",
       "      <th></th>\n",
       "      <th></th>\n",
       "      <th></th>\n",
       "    </tr>\n",
       "  </thead>\n",
       "  <tbody>\n",
       "    <tr>\n",
       "      <th>MAC000002</th>\n",
       "      <td>2012-10-12 00:30:00</td>\n",
       "      <td>2014-02-28 00:00:00</td>\n",
       "      <td>24141</td>\n",
       "    </tr>\n",
       "    <tr>\n",
       "      <th>MAC000246</th>\n",
       "      <td>2011-12-03 09:00:00</td>\n",
       "      <td>2014-02-28 00:00:00</td>\n",
       "      <td>39245</td>\n",
       "    </tr>\n",
       "    <tr>\n",
       "      <th>MAC000450</th>\n",
       "      <td>2012-03-22 15:30:00</td>\n",
       "      <td>2013-05-15 00:00:00</td>\n",
       "      <td>20028</td>\n",
       "    </tr>\n",
       "    <tr>\n",
       "      <th>MAC001074</th>\n",
       "      <td>2012-05-08 10:30:00</td>\n",
       "      <td>2012-12-20 23:30:00</td>\n",
       "      <td>10780</td>\n",
       "    </tr>\n",
       "    <tr>\n",
       "      <th>MAC003223</th>\n",
       "      <td>2012-09-17 12:30:00</td>\n",
       "      <td>2014-02-28 00:00:00</td>\n",
       "      <td>25367</td>\n",
       "    </tr>\n",
       "  </tbody>\n",
       "</table>\n",
       "</div>"
      ],
      "text/plain": [
       "                          min                 max  count\n",
       "LCLid                                                   \n",
       "MAC000002 2012-10-12 00:30:00 2014-02-28 00:00:00  24141\n",
       "MAC000246 2011-12-03 09:00:00 2014-02-28 00:00:00  39245\n",
       "MAC000450 2012-03-22 15:30:00 2013-05-15 00:00:00  20028\n",
       "MAC001074 2012-05-08 10:30:00 2012-12-20 23:30:00  10780\n",
       "MAC003223 2012-09-17 12:30:00 2014-02-28 00:00:00  25367"
      ]
     },
     "execution_count": 73,
     "metadata": {},
     "output_type": "execute_result"
    }
   ],
   "source": [
    "df_prop = pd.concat(list_data_prop)\n",
    "df_prop.head()"
   ]
  },
  {
   "cell_type": "code",
   "execution_count": 74,
   "id": "f051afd2",
   "metadata": {},
   "outputs": [
    {
     "data": {
      "text/plain": [
       "max\n",
       "2014-02-28 00:00:00    88\n",
       "2013-05-15 00:00:00     1\n",
       "2012-12-20 23:30:00     1\n",
       "2014-02-22 00:00:00     1\n",
       "2013-08-11 23:30:00     1\n",
       "Name: count, dtype: int64"
      ]
     },
     "execution_count": 74,
     "metadata": {},
     "output_type": "execute_result"
    }
   ],
   "source": [
    "df_prop['max'].value_counts().head()\n"
   ]
  },
  {
   "cell_type": "code",
   "execution_count": 75,
   "id": "fd24ce1c",
   "metadata": {},
   "outputs": [
    {
     "data": {
      "text/html": [
       "<div>\n",
       "<style scoped>\n",
       "    .dataframe tbody tr th:only-of-type {\n",
       "        vertical-align: middle;\n",
       "    }\n",
       "\n",
       "    .dataframe tbody tr th {\n",
       "        vertical-align: top;\n",
       "    }\n",
       "\n",
       "    .dataframe thead th {\n",
       "        text-align: right;\n",
       "    }\n",
       "</style>\n",
       "<table border=\"1\" class=\"dataframe\">\n",
       "  <thead>\n",
       "    <tr style=\"text-align: right;\">\n",
       "      <th></th>\n",
       "      <th>min</th>\n",
       "      <th>max</th>\n",
       "      <th>count</th>\n",
       "    </tr>\n",
       "    <tr>\n",
       "      <th>LCLid</th>\n",
       "      <th></th>\n",
       "      <th></th>\n",
       "      <th></th>\n",
       "    </tr>\n",
       "  </thead>\n",
       "  <tbody>\n",
       "    <tr>\n",
       "      <th>MAC000002</th>\n",
       "      <td>2012-10-12 00:30:00</td>\n",
       "      <td>2014-02-28</td>\n",
       "      <td>24141</td>\n",
       "    </tr>\n",
       "    <tr>\n",
       "      <th>MAC000246</th>\n",
       "      <td>2011-12-03 09:00:00</td>\n",
       "      <td>2014-02-28</td>\n",
       "      <td>39245</td>\n",
       "    </tr>\n",
       "    <tr>\n",
       "      <th>MAC003223</th>\n",
       "      <td>2012-09-17 12:30:00</td>\n",
       "      <td>2014-02-28</td>\n",
       "      <td>25367</td>\n",
       "    </tr>\n",
       "    <tr>\n",
       "      <th>MAC003239</th>\n",
       "      <td>2012-09-18 09:00:00</td>\n",
       "      <td>2014-02-28</td>\n",
       "      <td>25327</td>\n",
       "    </tr>\n",
       "    <tr>\n",
       "      <th>MAC003281</th>\n",
       "      <td>2012-09-21 08:30:00</td>\n",
       "      <td>2014-02-28</td>\n",
       "      <td>25179</td>\n",
       "    </tr>\n",
       "    <tr>\n",
       "      <th>...</th>\n",
       "      <td>...</td>\n",
       "      <td>...</td>\n",
       "      <td>...</td>\n",
       "    </tr>\n",
       "    <tr>\n",
       "      <th>MAC003166</th>\n",
       "      <td>2012-07-31 08:00:00</td>\n",
       "      <td>2014-02-28</td>\n",
       "      <td>27628</td>\n",
       "    </tr>\n",
       "    <tr>\n",
       "      <th>MAC003182</th>\n",
       "      <td>2012-09-13 10:00:00</td>\n",
       "      <td>2014-02-28</td>\n",
       "      <td>25560</td>\n",
       "    </tr>\n",
       "    <tr>\n",
       "      <th>MAC003212</th>\n",
       "      <td>2012-09-17 09:30:00</td>\n",
       "      <td>2014-02-28</td>\n",
       "      <td>25371</td>\n",
       "    </tr>\n",
       "    <tr>\n",
       "      <th>MAC003840</th>\n",
       "      <td>2012-10-23 12:30:00</td>\n",
       "      <td>2014-02-28</td>\n",
       "      <td>23633</td>\n",
       "    </tr>\n",
       "    <tr>\n",
       "      <th>MAC004529</th>\n",
       "      <td>2011-12-21 09:30:00</td>\n",
       "      <td>2014-02-28</td>\n",
       "      <td>38368</td>\n",
       "    </tr>\n",
       "  </tbody>\n",
       "</table>\n",
       "<p>88 rows × 3 columns</p>\n",
       "</div>"
      ],
      "text/plain": [
       "                          min        max  count\n",
       "LCLid                                          \n",
       "MAC000002 2012-10-12 00:30:00 2014-02-28  24141\n",
       "MAC000246 2011-12-03 09:00:00 2014-02-28  39245\n",
       "MAC003223 2012-09-17 12:30:00 2014-02-28  25367\n",
       "MAC003239 2012-09-18 09:00:00 2014-02-28  25327\n",
       "MAC003281 2012-09-21 08:30:00 2014-02-28  25179\n",
       "...                       ...        ...    ...\n",
       "MAC003166 2012-07-31 08:00:00 2014-02-28  27628\n",
       "MAC003182 2012-09-13 10:00:00 2014-02-28  25560\n",
       "MAC003212 2012-09-17 09:30:00 2014-02-28  25371\n",
       "MAC003840 2012-10-23 12:30:00 2014-02-28  23633\n",
       "MAC004529 2011-12-21 09:30:00 2014-02-28  38368\n",
       "\n",
       "[88 rows x 3 columns]"
      ]
     },
     "execution_count": 75,
     "metadata": {},
     "output_type": "execute_result"
    }
   ],
   "source": [
    "# get only those IDs that match the required max\n",
    "df_same_end_diff_len = df_prop [df_prop['max'] == pd.to_datetime('2014-02-28 00:00:00')]\n",
    "df_same_end_diff_len"
   ]
  },
  {
   "cell_type": "code",
   "execution_count": 76,
   "id": "7d8be33c",
   "metadata": {},
   "outputs": [
    {
     "data": {
      "text/plain": [
       "<Axes: >"
      ]
     },
     "execution_count": 76,
     "metadata": {},
     "output_type": "execute_result"
    },
    {
     "data": {
      "image/png": "[encoded data removed]",
      "text/plain": [
       "<Figure size 640x480 with 1 Axes>"
      ]
     },
     "metadata": {},
     "output_type": "display_data"
    }
   ],
   "source": [
    "# pick the good length!\n",
    "df_same_end_diff_len['count'].hist(bins=100)\n",
    "\n",
    "# Beautify this figure!"
   ]
  },
  {
   "cell_type": "code",
   "execution_count": 77,
   "id": "b1a93d91",
   "metadata": {},
   "outputs": [
    {
     "data": {
      "text/plain": [
       "count\n",
       "(30672, 31008]    6\n",
       "(31008, 31344]    4\n",
       "(31344, 31680]    4\n",
       "(30336, 30672]    3\n",
       "(30000, 30336]    2\n",
       "Name: count, dtype: int64"
      ]
     },
     "execution_count": 77,
     "metadata": {},
     "output_type": "execute_result"
    }
   ],
   "source": [
    "# The bins already gives us a week difference\n",
    "bins = np.arange(30000,32000,336)\n",
    "df_cut = pd.cut(df_same_end_diff_len['count'], bins)\n",
    "# count the number in each bin\n",
    "vc = pd.value_counts(df_cut)\n",
    "vc"
   ]
  },
  {
   "cell_type": "code",
   "execution_count": 78,
   "id": "f6ef1386",
   "metadata": {},
   "outputs": [
    {
     "data": {
      "text/html": [
       "<div>\n",
       "<style scoped>\n",
       "    .dataframe tbody tr th:only-of-type {\n",
       "        vertical-align: middle;\n",
       "    }\n",
       "\n",
       "    .dataframe tbody tr th {\n",
       "        vertical-align: top;\n",
       "    }\n",
       "\n",
       "    .dataframe thead th {\n",
       "        text-align: right;\n",
       "    }\n",
       "</style>\n",
       "<table border=\"1\" class=\"dataframe\">\n",
       "  <thead>\n",
       "    <tr style=\"text-align: right;\">\n",
       "      <th></th>\n",
       "      <th>min</th>\n",
       "      <th>max</th>\n",
       "      <th>count</th>\n",
       "    </tr>\n",
       "    <tr>\n",
       "      <th>LCLid</th>\n",
       "      <th></th>\n",
       "      <th></th>\n",
       "      <th></th>\n",
       "    </tr>\n",
       "  </thead>\n",
       "  <tbody>\n",
       "    <tr>\n",
       "      <th>MAC004179</th>\n",
       "      <td>2012-05-21 10:30:00</td>\n",
       "      <td>2014-02-28</td>\n",
       "      <td>31084</td>\n",
       "    </tr>\n",
       "    <tr>\n",
       "      <th>MAC004247</th>\n",
       "      <td>2012-05-23 14:00:00</td>\n",
       "      <td>2014-02-28</td>\n",
       "      <td>30832</td>\n",
       "    </tr>\n",
       "    <tr>\n",
       "      <th>MAC004319</th>\n",
       "      <td>2012-05-25 09:00:00</td>\n",
       "      <td>2014-02-28</td>\n",
       "      <td>30894</td>\n",
       "    </tr>\n",
       "    <tr>\n",
       "      <th>MAC001510</th>\n",
       "      <td>2012-05-22 09:30:00</td>\n",
       "      <td>2014-02-28</td>\n",
       "      <td>30990</td>\n",
       "    </tr>\n",
       "    <tr>\n",
       "      <th>MAC001528</th>\n",
       "      <td>2012-05-22 11:00:00</td>\n",
       "      <td>2014-02-28</td>\n",
       "      <td>30923</td>\n",
       "    </tr>\n",
       "    <tr>\n",
       "      <th>MAC001533</th>\n",
       "      <td>2012-05-22 11:00:00</td>\n",
       "      <td>2014-02-28</td>\n",
       "      <td>30984</td>\n",
       "    </tr>\n",
       "    <tr>\n",
       "      <th>MAC001628</th>\n",
       "      <td>2012-05-28 08:00:00</td>\n",
       "      <td>2014-02-28</td>\n",
       "      <td>30704</td>\n",
       "    </tr>\n",
       "  </tbody>\n",
       "</table>\n",
       "</div>"
      ],
      "text/plain": [
       "                          min        max  count\n",
       "LCLid                                          \n",
       "MAC004179 2012-05-21 10:30:00 2014-02-28  31084\n",
       "MAC004247 2012-05-23 14:00:00 2014-02-28  30832\n",
       "MAC004319 2012-05-25 09:00:00 2014-02-28  30894\n",
       "MAC001510 2012-05-22 09:30:00 2014-02-28  30990\n",
       "MAC001528 2012-05-22 11:00:00 2014-02-28  30923\n",
       "MAC001533 2012-05-22 11:00:00 2014-02-28  30984\n",
       "MAC001628 2012-05-28 08:00:00 2014-02-28  30704"
      ]
     },
     "execution_count": 78,
     "metadata": {},
     "output_type": "execute_result"
    }
   ],
   "source": [
    "# we pick this two length as find the corrosponding length\n",
    "lower_bound = vc.index.values[0].left\n",
    "upper_bound = vc.index.values[1].mid\n",
    "\n",
    "mask = (df_same_end_diff_len['count']>= lower_bound) & (df_same_end_diff_len['count'] <= upper_bound)\n",
    "\n",
    "df_same_end_diff_len[mask]"
   ]
  },
  {
   "cell_type": "code",
   "execution_count": 79,
   "id": "c448a1ef",
   "metadata": {},
   "outputs": [],
   "source": [
    "# save the index for later use\n",
    "selected_households = df_same_end_diff_len[mask].index.values\n",
    "np.savez('household_names.npz', selected_households=selected_households)\n",
    "\n"
   ]
  },
  {
   "cell_type": "code",
   "execution_count": null,
   "id": "f293256a",
   "metadata": {},
   "outputs": [],
   "source": [
    "# go the the second note book!"
   ]
  }
 ],
 "metadata": {
  "kernelspec": {
   "display_name": "modern_ts",
   "language": "python",
   "name": "python3"
  },
  "language_info": {
   "codemirror_mode": {
    "name": "ipython",
    "version": 3
   },
   "file_extension": ".py",
   "mimetype": "text/x-python",
   "name": "python",
   "nbconvert_exporter": "python",
   "pygments_lexer": "ipython3",
   "version": "3.8.19"
  },
  "vscode": {
   "interpreter": {
    "hash": "30fe1d27e07bcd39a201a380e0896b1a8ddc5b4c0f1bff527b499634c2e361cc"
   }
  }
 },
 "nbformat": 4,
 "nbformat_minor": 5
}
