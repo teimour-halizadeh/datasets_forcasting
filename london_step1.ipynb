{
 "cells": [
  {
   "cell_type": "code",
   "execution_count": 27,
   "id": "bce03d17-9b58-44ba-8aed-eb016815bc85",
   "metadata": {},
   "outputs": [],
   "source": [
    "import numpy as np\n",
    "import pandas as pd\n",
    "\n",
    "import matplotlib.pyplot as plt\n",
    "\n",
    "import os\n",
    "from pathlib import Path\n",
    "\n",
    "from tqdm.autonotebook import tqdm\n",
    "\n",
    "\n",
    "\n"
   ]
  },
  {
   "cell_type": "code",
   "execution_count": null,
   "id": "5facb7ee",
   "metadata": {},
   "outputs": [],
   "source": [
    "# The goal of this notebook is to pick a handful of households from\n",
    "# the data set while ending up with as minimum Nan as possible!\n"
   ]
  },
  {
   "cell_type": "code",
   "execution_count": 28,
   "id": "b363d00d-7f4d-494a-8317-938e30a66590",
   "metadata": {},
   "outputs": [],
   "source": [
    "# We are using already clean data.!\n",
    "source_data = Path(\"./london_dataset/\")\n",
    "block_data_path = source_data/'halfhourly_dataset'/'halfhourly_dataset'"
   ]
  },
  {
   "cell_type": "markdown",
   "id": "c24a701f-df4e-4b25-b980-aebb0c57361f",
   "metadata": {
    "tags": []
   },
   "source": [
    "### Converting the half hourly block level dataset into a time series data \n",
    "\n",
    "Let's pick one block and see how we can transform the data."
   ]
  },
  {
   "cell_type": "code",
   "execution_count": 24,
   "id": "33d1bfe9-fd32-4f13-8c53-2a5d12e66df5",
   "metadata": {},
   "outputs": [
    {
     "data": {
      "text/html": [
       "<div>\n",
       "<style scoped>\n",
       "    .dataframe tbody tr th:only-of-type {\n",
       "        vertical-align: middle;\n",
       "    }\n",
       "\n",
       "    .dataframe tbody tr th {\n",
       "        vertical-align: top;\n",
       "    }\n",
       "\n",
       "    .dataframe thead th {\n",
       "        text-align: right;\n",
       "    }\n",
       "</style>\n",
       "<table border=\"1\" class=\"dataframe\">\n",
       "  <thead>\n",
       "    <tr style=\"text-align: right;\">\n",
       "      <th></th>\n",
       "      <th>LCLid</th>\n",
       "      <th>tstp</th>\n",
       "      <th>energy(kWh/hh)</th>\n",
       "    </tr>\n",
       "  </thead>\n",
       "  <tbody>\n",
       "    <tr>\n",
       "      <th>0</th>\n",
       "      <td>MAC000030</td>\n",
       "      <td>2011-12-07 11:30:00</td>\n",
       "      <td>0.398</td>\n",
       "    </tr>\n",
       "    <tr>\n",
       "      <th>1</th>\n",
       "      <td>MAC000030</td>\n",
       "      <td>2011-12-07 12:00:00</td>\n",
       "      <td>0.578</td>\n",
       "    </tr>\n",
       "    <tr>\n",
       "      <th>2</th>\n",
       "      <td>MAC000030</td>\n",
       "      <td>2011-12-07 12:30:00</td>\n",
       "      <td>0.049</td>\n",
       "    </tr>\n",
       "    <tr>\n",
       "      <th>3</th>\n",
       "      <td>MAC000030</td>\n",
       "      <td>2011-12-07 13:00:00</td>\n",
       "      <td>0.081</td>\n",
       "    </tr>\n",
       "    <tr>\n",
       "      <th>4</th>\n",
       "      <td>MAC000030</td>\n",
       "      <td>2011-12-07 13:30:00</td>\n",
       "      <td>0.094</td>\n",
       "    </tr>\n",
       "  </tbody>\n",
       "</table>\n",
       "</div>"
      ],
      "text/plain": [
       "       LCLid                tstp energy(kWh/hh)\n",
       "0  MAC000030 2011-12-07 11:30:00         0.398 \n",
       "1  MAC000030 2011-12-07 12:00:00         0.578 \n",
       "2  MAC000030 2011-12-07 12:30:00         0.049 \n",
       "3  MAC000030 2011-12-07 13:00:00         0.081 \n",
       "4  MAC000030 2011-12-07 13:30:00         0.094 "
      ]
     },
     "execution_count": 24,
     "metadata": {},
     "output_type": "execute_result"
    }
   ],
   "source": [
    "block_1 = pd.read_csv(block_data_path/\"block_1.csv\", parse_dates=False)\n",
    "block_1['tstp'] = pd.to_datetime(block_1['tstp'], yearfirst=True)\n",
    "block_1.head()\n",
    "\n",
    "# this is a sample from data!\n",
    "\n",
    "\n",
    "\n",
    "\n",
    "block_2 = pd.read_csv(block_data_path/\"block_2.csv\", parse_dates=False)\n",
    "block_2['tstp'] = pd.to_datetime(block_2['tstp'], yearfirst=True)\n",
    "block_2.head()\n",
    "\n",
    "# this is a sample from data!\n"
   ]
  },
  {
   "cell_type": "code",
   "execution_count": 25,
   "id": "8564a117",
   "metadata": {},
   "outputs": [],
   "source": [
    "dic1 = block_1.groupby('LCLid')['tstp'].agg(['min', 'max', 'count' ])\n",
    "dic2 = block_2.groupby('LCLid')['tstp'].agg(['min', 'max', 'count' ])\n",
    "\n",
    "\n"
   ]
  },
  {
   "cell_type": "code",
   "execution_count": 26,
   "id": "10dc7da6",
   "metadata": {},
   "outputs": [
    {
     "data": {
      "text/html": [
       "<div>\n",
       "<style scoped>\n",
       "    .dataframe tbody tr th:only-of-type {\n",
       "        vertical-align: middle;\n",
       "    }\n",
       "\n",
       "    .dataframe tbody tr th {\n",
       "        vertical-align: top;\n",
       "    }\n",
       "\n",
       "    .dataframe thead th {\n",
       "        text-align: right;\n",
       "    }\n",
       "</style>\n",
       "<table border=\"1\" class=\"dataframe\">\n",
       "  <thead>\n",
       "    <tr style=\"text-align: right;\">\n",
       "      <th></th>\n",
       "      <th>min</th>\n",
       "      <th>max</th>\n",
       "      <th>count</th>\n",
       "    </tr>\n",
       "    <tr>\n",
       "      <th>LCLid</th>\n",
       "      <th></th>\n",
       "      <th></th>\n",
       "      <th></th>\n",
       "    </tr>\n",
       "  </thead>\n",
       "  <tbody>\n",
       "    <tr>\n",
       "      <th>MAC000323</th>\n",
       "      <td>2012-03-06 14:00:00</td>\n",
       "      <td>2014-02-28</td>\n",
       "      <td>34725</td>\n",
       "    </tr>\n",
       "    <tr>\n",
       "      <th>MAC000379</th>\n",
       "      <td>2012-03-12 15:30:00</td>\n",
       "      <td>2013-07-31</td>\n",
       "      <td>24250</td>\n",
       "    </tr>\n",
       "    <tr>\n",
       "      <th>MAC000386</th>\n",
       "      <td>2012-03-13 10:30:00</td>\n",
       "      <td>2014-02-28</td>\n",
       "      <td>34345</td>\n",
       "    </tr>\n",
       "    <tr>\n",
       "      <th>MAC000535</th>\n",
       "      <td>2012-04-10 10:00:00</td>\n",
       "      <td>2014-02-28</td>\n",
       "      <td>32902</td>\n",
       "    </tr>\n",
       "    <tr>\n",
       "      <th>MAC000557</th>\n",
       "      <td>2012-04-11 09:00:00</td>\n",
       "      <td>2014-02-28</td>\n",
       "      <td>32750</td>\n",
       "    </tr>\n",
       "    <tr>\n",
       "      <th>...</th>\n",
       "      <td>...</td>\n",
       "      <td>...</td>\n",
       "      <td>...</td>\n",
       "    </tr>\n",
       "    <tr>\n",
       "      <th>MAC005283</th>\n",
       "      <td>2012-02-10 16:00:00</td>\n",
       "      <td>2014-02-28</td>\n",
       "      <td>35917</td>\n",
       "    </tr>\n",
       "    <tr>\n",
       "      <th>MAC005406</th>\n",
       "      <td>2012-02-27 16:00:00</td>\n",
       "      <td>2014-02-28</td>\n",
       "      <td>35100</td>\n",
       "    </tr>\n",
       "    <tr>\n",
       "      <th>MAC005421</th>\n",
       "      <td>2012-02-29 10:30:00</td>\n",
       "      <td>2014-02-28</td>\n",
       "      <td>35012</td>\n",
       "    </tr>\n",
       "    <tr>\n",
       "      <th>MAC005468</th>\n",
       "      <td>2012-04-16 10:30:00</td>\n",
       "      <td>2014-02-28</td>\n",
       "      <td>32752</td>\n",
       "    </tr>\n",
       "    <tr>\n",
       "      <th>MAC005523</th>\n",
       "      <td>2012-04-17 11:30:00</td>\n",
       "      <td>2014-02-28</td>\n",
       "      <td>32663</td>\n",
       "    </tr>\n",
       "  </tbody>\n",
       "</table>\n",
       "<p>100 rows × 3 columns</p>\n",
       "</div>"
      ],
      "text/plain": [
       "                          min        max  count\n",
       "LCLid                                          \n",
       "MAC000323 2012-03-06 14:00:00 2014-02-28  34725\n",
       "MAC000379 2012-03-12 15:30:00 2013-07-31  24250\n",
       "MAC000386 2012-03-13 10:30:00 2014-02-28  34345\n",
       "MAC000535 2012-04-10 10:00:00 2014-02-28  32902\n",
       "MAC000557 2012-04-11 09:00:00 2014-02-28  32750\n",
       "...                       ...        ...    ...\n",
       "MAC005283 2012-02-10 16:00:00 2014-02-28  35917\n",
       "MAC005406 2012-02-27 16:00:00 2014-02-28  35100\n",
       "MAC005421 2012-02-29 10:30:00 2014-02-28  35012\n",
       "MAC005468 2012-04-16 10:30:00 2014-02-28  32752\n",
       "MAC005523 2012-04-17 11:30:00 2014-02-28  32663\n",
       "\n",
       "[100 rows x 3 columns]"
      ]
     },
     "execution_count": 26,
     "metadata": {},
     "output_type": "execute_result"
    }
   ],
   "source": [
    "pd.concat([dic1, dic2])"
   ]
  },
  {
   "cell_type": "code",
   "execution_count": 4,
   "id": "7cb24b33",
   "metadata": {},
   "outputs": [
    {
     "name": "stderr",
     "output_type": "stream",
     "text": [
      "112it [02:18,  1.23s/it]"
     ]
    },
    {
     "name": "stdout",
     "output_type": "stream",
     "text": [
      "How many Nan did we have?: 0\n",
      "Data is clean!\n"
     ]
    },
    {
     "name": "stderr",
     "output_type": "stream",
     "text": [
      "\n"
     ]
    }
   ],
   "source": [
    "# check for the NAN\n",
    "\n",
    "check_nan = 0\n",
    "for f in tqdm(block_data_path.glob(\"*.csv\")):\n",
    "    df = pd.read_csv(f, parse_dates=False, dtype=object)\n",
    "    check_nan += df.isnull().sum().sum()\n",
    "print(f\"How many Nan did we have?: {check_nan}\")\n",
    "print('Data is clean!')\n",
    "del df\n"
   ]
  },
  {
   "cell_type": "code",
   "execution_count": 29,
   "id": "b7ca74d5",
   "metadata": {},
   "outputs": [
    {
     "name": "stderr",
     "output_type": "stream",
     "text": [
      "112it [03:05,  1.65s/it]\n"
     ]
    }
   ],
   "source": [
    "\n",
    "# get the maximum and the length of each series:\n",
    "\n",
    "# check for the NAN\n",
    "list_data_prop = []\n",
    "for f in tqdm(block_data_path.glob(\"*.csv\")):\n",
    "    df = pd.read_csv(f, parse_dates=False, dtype=object)\n",
    "    df['tstp'] = pd.to_datetime(df['tstp'], yearfirst=True)\n",
    "    \n",
    "\n",
    "    list_data_prop.append(df.groupby('LCLid')['tstp'].agg(['min', 'max', 'count' ]))\n",
    "\n",
    "\n",
    "\n",
    "\n",
    "\n",
    "\n",
    "\n"
   ]
  },
  {
   "cell_type": "code",
   "execution_count": 30,
   "id": "6b9b117f",
   "metadata": {},
   "outputs": [
    {
     "data": {
      "text/html": [
       "<div>\n",
       "<style scoped>\n",
       "    .dataframe tbody tr th:only-of-type {\n",
       "        vertical-align: middle;\n",
       "    }\n",
       "\n",
       "    .dataframe tbody tr th {\n",
       "        vertical-align: top;\n",
       "    }\n",
       "\n",
       "    .dataframe thead th {\n",
       "        text-align: right;\n",
       "    }\n",
       "</style>\n",
       "<table border=\"1\" class=\"dataframe\">\n",
       "  <thead>\n",
       "    <tr style=\"text-align: right;\">\n",
       "      <th></th>\n",
       "      <th>min</th>\n",
       "      <th>max</th>\n",
       "      <th>count</th>\n",
       "    </tr>\n",
       "    <tr>\n",
       "      <th>LCLid</th>\n",
       "      <th></th>\n",
       "      <th></th>\n",
       "      <th></th>\n",
       "    </tr>\n",
       "  </thead>\n",
       "  <tbody>\n",
       "    <tr>\n",
       "      <th>MAC000127</th>\n",
       "      <td>2011-12-15 11:00:00</td>\n",
       "      <td>2014-02-28</td>\n",
       "      <td>38666</td>\n",
       "    </tr>\n",
       "    <tr>\n",
       "      <th>MAC000256</th>\n",
       "      <td>2011-12-05 09:00:00</td>\n",
       "      <td>2014-02-28</td>\n",
       "      <td>39151</td>\n",
       "    </tr>\n",
       "    <tr>\n",
       "      <th>MAC000390</th>\n",
       "      <td>2012-03-13 10:30:00</td>\n",
       "      <td>2014-02-28</td>\n",
       "      <td>34396</td>\n",
       "    </tr>\n",
       "    <tr>\n",
       "      <th>MAC000436</th>\n",
       "      <td>2012-03-22 10:30:00</td>\n",
       "      <td>2014-02-28</td>\n",
       "      <td>33957</td>\n",
       "    </tr>\n",
       "    <tr>\n",
       "      <th>MAC000484</th>\n",
       "      <td>2012-03-23 15:00:00</td>\n",
       "      <td>2014-02-28</td>\n",
       "      <td>33905</td>\n",
       "    </tr>\n",
       "  </tbody>\n",
       "</table>\n",
       "</div>"
      ],
      "text/plain": [
       "                          min        max  count\n",
       "LCLid                                          \n",
       "MAC000127 2011-12-15 11:00:00 2014-02-28  38666\n",
       "MAC000256 2011-12-05 09:00:00 2014-02-28  39151\n",
       "MAC000390 2012-03-13 10:30:00 2014-02-28  34396\n",
       "MAC000436 2012-03-22 10:30:00 2014-02-28  33957\n",
       "MAC000484 2012-03-23 15:00:00 2014-02-28  33905"
      ]
     },
     "execution_count": 30,
     "metadata": {},
     "output_type": "execute_result"
    }
   ],
   "source": [
    "df = pd.concat(list_data_prop)\n",
    "\n",
    "df.head()"
   ]
  },
  {
   "cell_type": "code",
   "execution_count": 34,
   "id": "f051afd2",
   "metadata": {},
   "outputs": [
    {
     "data": {
      "text/plain": [
       "max\n",
       "2014-02-28    4987\n",
       "2014-01-08      19\n",
       "2013-11-23      18\n",
       "2013-02-27      18\n",
       "2014-02-14      12\n",
       "Name: count, dtype: int64"
      ]
     },
     "execution_count": 34,
     "metadata": {},
     "output_type": "execute_result"
    }
   ],
   "source": [
    "df['max'].value_counts().head()\n",
    "# then decide and drop all the series that does not end in the max\n",
    "\n"
   ]
  },
  {
   "cell_type": "code",
   "execution_count": 35,
   "id": "fd24ce1c",
   "metadata": {},
   "outputs": [
    {
     "data": {
      "text/html": [
       "<div>\n",
       "<style scoped>\n",
       "    .dataframe tbody tr th:only-of-type {\n",
       "        vertical-align: middle;\n",
       "    }\n",
       "\n",
       "    .dataframe tbody tr th {\n",
       "        vertical-align: top;\n",
       "    }\n",
       "\n",
       "    .dataframe thead th {\n",
       "        text-align: right;\n",
       "    }\n",
       "</style>\n",
       "<table border=\"1\" class=\"dataframe\">\n",
       "  <thead>\n",
       "    <tr style=\"text-align: right;\">\n",
       "      <th></th>\n",
       "      <th>min</th>\n",
       "      <th>max</th>\n",
       "      <th>count</th>\n",
       "    </tr>\n",
       "    <tr>\n",
       "      <th>LCLid</th>\n",
       "      <th></th>\n",
       "      <th></th>\n",
       "      <th></th>\n",
       "    </tr>\n",
       "  </thead>\n",
       "  <tbody>\n",
       "    <tr>\n",
       "      <th>MAC000127</th>\n",
       "      <td>2011-12-15 11:00:00</td>\n",
       "      <td>2014-02-28</td>\n",
       "      <td>38666</td>\n",
       "    </tr>\n",
       "    <tr>\n",
       "      <th>MAC000256</th>\n",
       "      <td>2011-12-05 09:00:00</td>\n",
       "      <td>2014-02-28</td>\n",
       "      <td>39151</td>\n",
       "    </tr>\n",
       "    <tr>\n",
       "      <th>MAC000390</th>\n",
       "      <td>2012-03-13 10:30:00</td>\n",
       "      <td>2014-02-28</td>\n",
       "      <td>34396</td>\n",
       "    </tr>\n",
       "    <tr>\n",
       "      <th>MAC000436</th>\n",
       "      <td>2012-03-22 10:30:00</td>\n",
       "      <td>2014-02-28</td>\n",
       "      <td>33957</td>\n",
       "    </tr>\n",
       "    <tr>\n",
       "      <th>MAC000484</th>\n",
       "      <td>2012-03-23 15:00:00</td>\n",
       "      <td>2014-02-28</td>\n",
       "      <td>33905</td>\n",
       "    </tr>\n",
       "    <tr>\n",
       "      <th>...</th>\n",
       "      <td>...</td>\n",
       "      <td>...</td>\n",
       "      <td>...</td>\n",
       "    </tr>\n",
       "    <tr>\n",
       "      <th>MAC004138</th>\n",
       "      <td>2012-05-21 08:00:00</td>\n",
       "      <td>2014-02-28</td>\n",
       "      <td>31082</td>\n",
       "    </tr>\n",
       "    <tr>\n",
       "      <th>MAC005207</th>\n",
       "      <td>2012-02-03 11:30:00</td>\n",
       "      <td>2014-02-28</td>\n",
       "      <td>36263</td>\n",
       "    </tr>\n",
       "    <tr>\n",
       "      <th>MAC005514</th>\n",
       "      <td>2012-04-17 10:30:00</td>\n",
       "      <td>2014-02-28</td>\n",
       "      <td>32668</td>\n",
       "    </tr>\n",
       "    <tr>\n",
       "      <th>MAC005533</th>\n",
       "      <td>2012-04-17 14:00:00</td>\n",
       "      <td>2014-02-28</td>\n",
       "      <td>32707</td>\n",
       "    </tr>\n",
       "    <tr>\n",
       "      <th>MAC005543</th>\n",
       "      <td>2012-04-18 08:00:00</td>\n",
       "      <td>2014-02-28</td>\n",
       "      <td>32525</td>\n",
       "    </tr>\n",
       "  </tbody>\n",
       "</table>\n",
       "<p>4987 rows × 3 columns</p>\n",
       "</div>"
      ],
      "text/plain": [
       "                          min        max  count\n",
       "LCLid                                          \n",
       "MAC000127 2011-12-15 11:00:00 2014-02-28  38666\n",
       "MAC000256 2011-12-05 09:00:00 2014-02-28  39151\n",
       "MAC000390 2012-03-13 10:30:00 2014-02-28  34396\n",
       "MAC000436 2012-03-22 10:30:00 2014-02-28  33957\n",
       "MAC000484 2012-03-23 15:00:00 2014-02-28  33905\n",
       "...                       ...        ...    ...\n",
       "MAC004138 2012-05-21 08:00:00 2014-02-28  31082\n",
       "MAC005207 2012-02-03 11:30:00 2014-02-28  36263\n",
       "MAC005514 2012-04-17 10:30:00 2014-02-28  32668\n",
       "MAC005533 2012-04-17 14:00:00 2014-02-28  32707\n",
       "MAC005543 2012-04-18 08:00:00 2014-02-28  32525\n",
       "\n",
       "[4987 rows x 3 columns]"
      ]
     },
     "execution_count": 35,
     "metadata": {},
     "output_type": "execute_result"
    }
   ],
   "source": [
    "# get only those IDs that match the required max\n",
    "my_data = df [df['max'] == pd.to_datetime('2014-02-28 00:00:00')]\n",
    "\n",
    "my_data\n",
    "\n"
   ]
  },
  {
   "cell_type": "code",
   "execution_count": 40,
   "id": "7d8be33c",
   "metadata": {},
   "outputs": [
    {
     "data": {
      "text/plain": [
       "<Axes: >"
      ]
     },
     "execution_count": 40,
     "metadata": {},
     "output_type": "execute_result"
    },
    {
     "data": {
      "image/png": "[encoded data removed]",
      "text/plain": [
       "<Figure size 640x480 with 1 Axes>"
      ]
     },
     "metadata": {},
     "output_type": "display_data"
    }
   ],
   "source": [
    "# pick the good length!\n",
    "my_data['count'].hist(bins=100)\n",
    "\n",
    "\n",
    "# it seems that most of the data have a length around 32 000\n",
    "# find the corrosponding bin and all the IDs there\n",
    "# later after loading the data we just cut it\n",
    "# or right now find the corrosponding time then we need to extract the data\n",
    "# for the given ID and min!!!"
   ]
  },
  {
   "cell_type": "code",
   "execution_count": 37,
   "id": "378c8bed",
   "metadata": {},
   "outputs": [
    {
     "data": {
      "text/plain": [
       "0    28873\n",
       "1    28874\n",
       "Name: count, dtype: int64"
      ]
     },
     "execution_count": 37,
     "metadata": {},
     "output_type": "execute_result"
    }
   ],
   "source": [
    "my_data['count'].mode()\n",
    "# it seems that we have two modes!\n"
   ]
  },
  {
   "cell_type": "code",
   "execution_count": 39,
   "id": "af77ff18",
   "metadata": {},
   "outputs": [
    {
     "data": {
      "text/plain": [
       "count\n",
       "28874    11\n",
       "28873    11\n",
       "31274    10\n",
       "31611    10\n",
       "28872     9\n",
       "         ..\n",
       "28979     1\n",
       "35307     1\n",
       "28929     1\n",
       "29151     1\n",
       "32707     1\n",
       "Name: count, Length: 2955, dtype: int64"
      ]
     },
     "execution_count": 39,
     "metadata": {},
     "output_type": "execute_result"
    }
   ],
   "source": [
    "my_data['count'].value_counts()"
   ]
  },
  {
   "cell_type": "code",
   "execution_count": 15,
   "id": "10797780",
   "metadata": {},
   "outputs": [
    {
     "name": "stdout",
     "output_type": "stream",
     "text": [
      "How many Nan did we have?: 0\n"
     ]
    }
   ],
   "source": [
    "# only selectd those IDs that have the desired length or are in that range!\n",
    "# if we can have 500 would be good!\n",
    "# drop others.\n",
    "# once again go through the data and pick those ids. \n",
    "# put the date as the index like other papers\n",
    "# save the results in a CSV format for the future!\n",
    "\n"
   ]
  },
  {
   "cell_type": "markdown",
   "id": "58329ca8-2d49-4ebd-a2dc-05399a4a616f",
   "metadata": {
    "tags": []
   },
   "source": [
    "### Merging additional information"
   ]
  },
  {
   "cell_type": "markdown",
   "id": "04d04aba-d859-489e-81e5-dcef0caa0d96",
   "metadata": {
    "tags": []
   },
   "source": [
    "#### Household information"
   ]
  },
  {
   "cell_type": "code",
   "execution_count": 20,
   "id": "f17e77aa-99c0-407e-9ab6-9a59bc56bf58",
   "metadata": {},
   "outputs": [
    {
     "data": {
      "text/html": [
       "<div>\n",
       "<style scoped>\n",
       "    .dataframe tbody tr th:only-of-type {\n",
       "        vertical-align: middle;\n",
       "    }\n",
       "\n",
       "    .dataframe tbody tr th {\n",
       "        vertical-align: top;\n",
       "    }\n",
       "\n",
       "    .dataframe thead th {\n",
       "        text-align: right;\n",
       "    }\n",
       "</style>\n",
       "<table border=\"1\" class=\"dataframe\">\n",
       "  <thead>\n",
       "    <tr style=\"text-align: right;\">\n",
       "      <th></th>\n",
       "      <th>LCLid</th>\n",
       "      <th>stdorToU</th>\n",
       "      <th>Acorn</th>\n",
       "      <th>Acorn_grouped</th>\n",
       "      <th>file</th>\n",
       "    </tr>\n",
       "  </thead>\n",
       "  <tbody>\n",
       "    <tr>\n",
       "      <th>0</th>\n",
       "      <td>MAC005492</td>\n",
       "      <td>ToU</td>\n",
       "      <td>ACORN-</td>\n",
       "      <td>ACORN-</td>\n",
       "      <td>block_0</td>\n",
       "    </tr>\n",
       "    <tr>\n",
       "      <th>1</th>\n",
       "      <td>MAC001074</td>\n",
       "      <td>ToU</td>\n",
       "      <td>ACORN-</td>\n",
       "      <td>ACORN-</td>\n",
       "      <td>block_0</td>\n",
       "    </tr>\n",
       "    <tr>\n",
       "      <th>2</th>\n",
       "      <td>MAC000002</td>\n",
       "      <td>Std</td>\n",
       "      <td>ACORN-A</td>\n",
       "      <td>Affluent</td>\n",
       "      <td>block_0</td>\n",
       "    </tr>\n",
       "    <tr>\n",
       "      <th>3</th>\n",
       "      <td>MAC003613</td>\n",
       "      <td>Std</td>\n",
       "      <td>ACORN-A</td>\n",
       "      <td>Affluent</td>\n",
       "      <td>block_0</td>\n",
       "    </tr>\n",
       "    <tr>\n",
       "      <th>4</th>\n",
       "      <td>MAC003597</td>\n",
       "      <td>Std</td>\n",
       "      <td>ACORN-A</td>\n",
       "      <td>Affluent</td>\n",
       "      <td>block_0</td>\n",
       "    </tr>\n",
       "  </tbody>\n",
       "</table>\n",
       "</div>"
      ],
      "text/plain": [
       "       LCLid stdorToU    Acorn Acorn_grouped     file\n",
       "0  MAC005492      ToU   ACORN-        ACORN-  block_0\n",
       "1  MAC001074      ToU   ACORN-        ACORN-  block_0\n",
       "2  MAC000002      Std  ACORN-A      Affluent  block_0\n",
       "3  MAC003613      Std  ACORN-A      Affluent  block_0\n",
       "4  MAC003597      Std  ACORN-A      Affluent  block_0"
      ]
     },
     "execution_count": 20,
     "metadata": {},
     "output_type": "execute_result"
    }
   ],
   "source": [
    "household_info = pd.read_csv(source_data/\"informations_households.csv\")\n",
    "household_info.head()"
   ]
  },
  {
   "cell_type": "code",
   "execution_count": 21,
   "id": "e047a646-7883-40d5-8423-bd469b0ab326",
   "metadata": {},
   "outputs": [
    {
     "data": {
      "text/html": [
       "<div>\n",
       "<style scoped>\n",
       "    .dataframe tbody tr th:only-of-type {\n",
       "        vertical-align: middle;\n",
       "    }\n",
       "\n",
       "    .dataframe tbody tr th {\n",
       "        vertical-align: top;\n",
       "    }\n",
       "\n",
       "    .dataframe thead th {\n",
       "        text-align: right;\n",
       "    }\n",
       "</style>\n",
       "<table border=\"1\" class=\"dataframe\">\n",
       "  <thead>\n",
       "    <tr style=\"text-align: right;\">\n",
       "      <th></th>\n",
       "      <th>LCLid</th>\n",
       "      <th>start_timestamp</th>\n",
       "      <th>frequency</th>\n",
       "      <th>energy_consumption</th>\n",
       "      <th>series_length</th>\n",
       "      <th>stdorToU</th>\n",
       "      <th>Acorn</th>\n",
       "      <th>Acorn_grouped</th>\n",
       "      <th>file</th>\n",
       "    </tr>\n",
       "  </thead>\n",
       "  <tbody>\n",
       "    <tr>\n",
       "      <th>0</th>\n",
       "      <td>MAC000002</td>\n",
       "      <td>2012-10-13</td>\n",
       "      <td>30min</td>\n",
       "      <td>[0.263, 0.2689999999999999, 0.275, 0.256, 0.21...</td>\n",
       "      <td>24144</td>\n",
       "      <td>Std</td>\n",
       "      <td>ACORN-A</td>\n",
       "      <td>Affluent</td>\n",
       "      <td>block_0</td>\n",
       "    </tr>\n",
       "    <tr>\n",
       "      <th>1</th>\n",
       "      <td>MAC000246</td>\n",
       "      <td>2012-01-01</td>\n",
       "      <td>30min</td>\n",
       "      <td>[0.509, 0.317, 0.253, 0.249, 0.93, 0.607, 0.10...</td>\n",
       "      <td>37872</td>\n",
       "      <td>Std</td>\n",
       "      <td>ACORN-A</td>\n",
       "      <td>Affluent</td>\n",
       "      <td>block_0</td>\n",
       "    </tr>\n",
       "    <tr>\n",
       "      <th>2</th>\n",
       "      <td>MAC000450</td>\n",
       "      <td>2012-03-23</td>\n",
       "      <td>30min</td>\n",
       "      <td>[1.337, 1.426, 0.996, 0.971, 0.994, 0.952, 0.8...</td>\n",
       "      <td>33936</td>\n",
       "      <td>Std</td>\n",
       "      <td>ACORN-A</td>\n",
       "      <td>Affluent</td>\n",
       "      <td>block_0</td>\n",
       "    </tr>\n",
       "    <tr>\n",
       "      <th>3</th>\n",
       "      <td>MAC001074</td>\n",
       "      <td>2012-05-09</td>\n",
       "      <td>30min</td>\n",
       "      <td>[0.18, 0.086, 0.106, 0.173, 0.146, 0.223, 0.21...</td>\n",
       "      <td>31680</td>\n",
       "      <td>ToU</td>\n",
       "      <td>ACORN-</td>\n",
       "      <td>ACORN-</td>\n",
       "      <td>block_0</td>\n",
       "    </tr>\n",
       "    <tr>\n",
       "      <th>4</th>\n",
       "      <td>MAC003223</td>\n",
       "      <td>2012-09-18</td>\n",
       "      <td>30min</td>\n",
       "      <td>[0.076, 0.079, 0.123, 0.109, 0.051, 0.069, 0.0...</td>\n",
       "      <td>25344</td>\n",
       "      <td>Std</td>\n",
       "      <td>ACORN-A</td>\n",
       "      <td>Affluent</td>\n",
       "      <td>block_0</td>\n",
       "    </tr>\n",
       "  </tbody>\n",
       "</table>\n",
       "</div>"
      ],
      "text/plain": [
       "       LCLid start_timestamp frequency  \\\n",
       "0  MAC000002      2012-10-13     30min   \n",
       "1  MAC000246      2012-01-01     30min   \n",
       "2  MAC000450      2012-03-23     30min   \n",
       "3  MAC001074      2012-05-09     30min   \n",
       "4  MAC003223      2012-09-18     30min   \n",
       "\n",
       "                                  energy_consumption  series_length stdorToU  \\\n",
       "0  [0.263, 0.2689999999999999, 0.275, 0.256, 0.21...          24144      Std   \n",
       "1  [0.509, 0.317, 0.253, 0.249, 0.93, 0.607, 0.10...          37872      Std   \n",
       "2  [1.337, 1.426, 0.996, 0.971, 0.994, 0.952, 0.8...          33936      Std   \n",
       "3  [0.18, 0.086, 0.106, 0.173, 0.146, 0.223, 0.21...          31680      ToU   \n",
       "4  [0.076, 0.079, 0.123, 0.109, 0.051, 0.069, 0.0...          25344      Std   \n",
       "\n",
       "     Acorn Acorn_grouped     file  \n",
       "0  ACORN-A      Affluent  block_0  \n",
       "1  ACORN-A      Affluent  block_0  \n",
       "2  ACORN-A      Affluent  block_0  \n",
       "3   ACORN-        ACORN-  block_0  \n",
       "4  ACORN-A      Affluent  block_0  "
      ]
     },
     "execution_count": 21,
     "metadata": {},
     "output_type": "execute_result"
    }
   ],
   "source": [
    "hhblock_df = hhblock_df.merge(household_info, on='LCLid', validate=\"one_to_one\")\n",
    "hhblock_df.head()"
   ]
  },
  {
   "cell_type": "markdown",
   "id": "eeaa90fb-7fb6-4a08-a631-9a6d8ef86f40",
   "metadata": {
    "tags": []
   },
   "source": [
    "#### Weather and Bank Holidays"
   ]
  },
  {
   "cell_type": "code",
   "execution_count": 22,
   "id": "73358282-4bf3-43ae-97f8-f96f4310ccb3",
   "metadata": {},
   "outputs": [
    {
     "data": {
      "text/html": [
       "<div>\n",
       "<style scoped>\n",
       "    .dataframe tbody tr th:only-of-type {\n",
       "        vertical-align: middle;\n",
       "    }\n",
       "\n",
       "    .dataframe tbody tr th {\n",
       "        vertical-align: top;\n",
       "    }\n",
       "\n",
       "    .dataframe thead th {\n",
       "        text-align: right;\n",
       "    }\n",
       "</style>\n",
       "<table border=\"1\" class=\"dataframe\">\n",
       "  <thead>\n",
       "    <tr style=\"text-align: right;\">\n",
       "      <th></th>\n",
       "      <th>Type</th>\n",
       "    </tr>\n",
       "    <tr>\n",
       "      <th>Bank holidays</th>\n",
       "      <th></th>\n",
       "    </tr>\n",
       "  </thead>\n",
       "  <tbody>\n",
       "    <tr>\n",
       "      <th>2012-12-26</th>\n",
       "      <td>Boxing Day</td>\n",
       "    </tr>\n",
       "    <tr>\n",
       "      <th>2012-12-25</th>\n",
       "      <td>Christmas Day</td>\n",
       "    </tr>\n",
       "    <tr>\n",
       "      <th>2012-08-27</th>\n",
       "      <td>Summer bank holiday</td>\n",
       "    </tr>\n",
       "    <tr>\n",
       "      <th>2012-05-06</th>\n",
       "      <td>Queen?s Diamond Jubilee (extra bank holiday)</td>\n",
       "    </tr>\n",
       "    <tr>\n",
       "      <th>2012-04-06</th>\n",
       "      <td>Spring bank holiday (substitute day)</td>\n",
       "    </tr>\n",
       "  </tbody>\n",
       "</table>\n",
       "</div>"
      ],
      "text/plain": [
       "                                                       Type\n",
       "Bank holidays                                              \n",
       "2012-12-26                                       Boxing Day\n",
       "2012-12-25                                    Christmas Day\n",
       "2012-08-27                              Summer bank holiday\n",
       "2012-05-06     Queen?s Diamond Jubilee (extra bank holiday)\n",
       "2012-04-06             Spring bank holiday (substitute day)"
      ]
     },
     "execution_count": 22,
     "metadata": {},
     "output_type": "execute_result"
    }
   ],
   "source": [
    "bank_holidays = pd.read_csv(source_data/\"uk_bank_holidays.csv\", parse_dates=False)\n",
    "bank_holidays['Bank holidays'] = pd.to_datetime(bank_holidays['Bank holidays'], yearfirst=True)\n",
    "bank_holidays.set_index(\"Bank holidays\", inplace=True)\n",
    "bank_holidays.head()"
   ]
  },
  {
   "cell_type": "code",
   "execution_count": 23,
   "id": "8c5d64c6-b29b-4f6e-8c89-793fe83ecc21",
   "metadata": {},
   "outputs": [
    {
     "data": {
      "text/html": [
       "<div>\n",
       "<style scoped>\n",
       "    .dataframe tbody tr th:only-of-type {\n",
       "        vertical-align: middle;\n",
       "    }\n",
       "\n",
       "    .dataframe tbody tr th {\n",
       "        vertical-align: top;\n",
       "    }\n",
       "\n",
       "    .dataframe thead th {\n",
       "        text-align: right;\n",
       "    }\n",
       "</style>\n",
       "<table border=\"1\" class=\"dataframe\">\n",
       "  <thead>\n",
       "    <tr style=\"text-align: right;\">\n",
       "      <th></th>\n",
       "      <th>Type</th>\n",
       "    </tr>\n",
       "    <tr>\n",
       "      <th>datetime</th>\n",
       "      <th></th>\n",
       "    </tr>\n",
       "  </thead>\n",
       "  <tbody>\n",
       "    <tr>\n",
       "      <th>2012-02-01 00:00:00</th>\n",
       "      <td>New Year?s Day (substitute day)</td>\n",
       "    </tr>\n",
       "    <tr>\n",
       "      <th>2012-02-01 00:30:00</th>\n",
       "      <td>New Year?s Day (substitute day)</td>\n",
       "    </tr>\n",
       "    <tr>\n",
       "      <th>2012-02-01 01:00:00</th>\n",
       "      <td>New Year?s Day (substitute day)</td>\n",
       "    </tr>\n",
       "    <tr>\n",
       "      <th>2012-02-01 01:30:00</th>\n",
       "      <td>New Year?s Day (substitute day)</td>\n",
       "    </tr>\n",
       "    <tr>\n",
       "      <th>2012-02-01 02:00:00</th>\n",
       "      <td>New Year?s Day (substitute day)</td>\n",
       "    </tr>\n",
       "  </tbody>\n",
       "</table>\n",
       "</div>"
      ],
      "text/plain": [
       "                                                Type\n",
       "datetime                                            \n",
       "2012-02-01 00:00:00  New Year?s Day (substitute day)\n",
       "2012-02-01 00:30:00  New Year?s Day (substitute day)\n",
       "2012-02-01 01:00:00  New Year?s Day (substitute day)\n",
       "2012-02-01 01:30:00  New Year?s Day (substitute day)\n",
       "2012-02-01 02:00:00  New Year?s Day (substitute day)"
      ]
     },
     "execution_count": 23,
     "metadata": {},
     "output_type": "execute_result"
    }
   ],
   "source": [
    "#Reindex on standard date range\n",
    "bank_holidays = bank_holidays.resample(\"30min\").asfreq()\n",
    "bank_holidays = bank_holidays.groupby(bank_holidays.index.date).ffill().fillna(\"NO_HOLIDAY\")\n",
    "bank_holidays.index.name=\"datetime\"\n",
    "bank_holidays.head()"
   ]
  },
  {
   "cell_type": "code",
   "execution_count": 24,
   "id": "7b27a978-802a-4068-8c0c-eb3237886241",
   "metadata": {},
   "outputs": [
    {
     "data": {
      "text/html": [
       "<div>\n",
       "<style scoped>\n",
       "    .dataframe tbody tr th:only-of-type {\n",
       "        vertical-align: middle;\n",
       "    }\n",
       "\n",
       "    .dataframe tbody tr th {\n",
       "        vertical-align: top;\n",
       "    }\n",
       "\n",
       "    .dataframe thead th {\n",
       "        text-align: right;\n",
       "    }\n",
       "</style>\n",
       "<table border=\"1\" class=\"dataframe\">\n",
       "  <thead>\n",
       "    <tr style=\"text-align: right;\">\n",
       "      <th></th>\n",
       "      <th>visibility</th>\n",
       "      <th>windBearing</th>\n",
       "      <th>temperature</th>\n",
       "      <th>dewPoint</th>\n",
       "      <th>pressure</th>\n",
       "      <th>apparentTemperature</th>\n",
       "      <th>windSpeed</th>\n",
       "      <th>precipType</th>\n",
       "      <th>icon</th>\n",
       "      <th>humidity</th>\n",
       "      <th>summary</th>\n",
       "    </tr>\n",
       "    <tr>\n",
       "      <th>time</th>\n",
       "      <th></th>\n",
       "      <th></th>\n",
       "      <th></th>\n",
       "      <th></th>\n",
       "      <th></th>\n",
       "      <th></th>\n",
       "      <th></th>\n",
       "      <th></th>\n",
       "      <th></th>\n",
       "      <th></th>\n",
       "      <th></th>\n",
       "    </tr>\n",
       "  </thead>\n",
       "  <tbody>\n",
       "    <tr>\n",
       "      <th>2011-11-11 00:00:00</th>\n",
       "      <td>5.97</td>\n",
       "      <td>104</td>\n",
       "      <td>10.24</td>\n",
       "      <td>8.86</td>\n",
       "      <td>1016.76</td>\n",
       "      <td>10.24</td>\n",
       "      <td>2.77</td>\n",
       "      <td>rain</td>\n",
       "      <td>partly-cloudy-night</td>\n",
       "      <td>0.91</td>\n",
       "      <td>Partly Cloudy</td>\n",
       "    </tr>\n",
       "    <tr>\n",
       "      <th>2011-11-11 01:00:00</th>\n",
       "      <td>4.88</td>\n",
       "      <td>99</td>\n",
       "      <td>9.76</td>\n",
       "      <td>8.83</td>\n",
       "      <td>1016.63</td>\n",
       "      <td>8.24</td>\n",
       "      <td>2.95</td>\n",
       "      <td>rain</td>\n",
       "      <td>partly-cloudy-night</td>\n",
       "      <td>0.94</td>\n",
       "      <td>Partly Cloudy</td>\n",
       "    </tr>\n",
       "    <tr>\n",
       "      <th>2011-11-11 02:00:00</th>\n",
       "      <td>3.70</td>\n",
       "      <td>98</td>\n",
       "      <td>9.46</td>\n",
       "      <td>8.79</td>\n",
       "      <td>1016.36</td>\n",
       "      <td>7.76</td>\n",
       "      <td>3.17</td>\n",
       "      <td>rain</td>\n",
       "      <td>partly-cloudy-night</td>\n",
       "      <td>0.96</td>\n",
       "      <td>Partly Cloudy</td>\n",
       "    </tr>\n",
       "    <tr>\n",
       "      <th>2011-11-11 03:00:00</th>\n",
       "      <td>3.12</td>\n",
       "      <td>99</td>\n",
       "      <td>9.23</td>\n",
       "      <td>8.63</td>\n",
       "      <td>1016.28</td>\n",
       "      <td>7.44</td>\n",
       "      <td>3.25</td>\n",
       "      <td>rain</td>\n",
       "      <td>fog</td>\n",
       "      <td>0.96</td>\n",
       "      <td>Foggy</td>\n",
       "    </tr>\n",
       "    <tr>\n",
       "      <th>2011-11-11 04:00:00</th>\n",
       "      <td>1.85</td>\n",
       "      <td>111</td>\n",
       "      <td>9.26</td>\n",
       "      <td>9.21</td>\n",
       "      <td>1015.98</td>\n",
       "      <td>7.24</td>\n",
       "      <td>3.70</td>\n",
       "      <td>rain</td>\n",
       "      <td>fog</td>\n",
       "      <td>1.00</td>\n",
       "      <td>Foggy</td>\n",
       "    </tr>\n",
       "  </tbody>\n",
       "</table>\n",
       "</div>"
      ],
      "text/plain": [
       "                     visibility  windBearing  temperature  dewPoint  pressure  \\\n",
       "time                                                                            \n",
       "2011-11-11 00:00:00        5.97          104        10.24      8.86   1016.76   \n",
       "2011-11-11 01:00:00        4.88           99         9.76      8.83   1016.63   \n",
       "2011-11-11 02:00:00        3.70           98         9.46      8.79   1016.36   \n",
       "2011-11-11 03:00:00        3.12           99         9.23      8.63   1016.28   \n",
       "2011-11-11 04:00:00        1.85          111         9.26      9.21   1015.98   \n",
       "\n",
       "                     apparentTemperature  windSpeed precipType  \\\n",
       "time                                                             \n",
       "2011-11-11 00:00:00                10.24       2.77       rain   \n",
       "2011-11-11 01:00:00                 8.24       2.95       rain   \n",
       "2011-11-11 02:00:00                 7.76       3.17       rain   \n",
       "2011-11-11 03:00:00                 7.44       3.25       rain   \n",
       "2011-11-11 04:00:00                 7.24       3.70       rain   \n",
       "\n",
       "                                    icon  humidity        summary  \n",
       "time                                                               \n",
       "2011-11-11 00:00:00  partly-cloudy-night      0.91  Partly Cloudy  \n",
       "2011-11-11 01:00:00  partly-cloudy-night      0.94  Partly Cloudy  \n",
       "2011-11-11 02:00:00  partly-cloudy-night      0.96  Partly Cloudy  \n",
       "2011-11-11 03:00:00                  fog      0.96          Foggy  \n",
       "2011-11-11 04:00:00                  fog      1.00          Foggy  "
      ]
     },
     "execution_count": 24,
     "metadata": {},
     "output_type": "execute_result"
    }
   ],
   "source": [
    "weather_hourly = pd.read_csv(source_data/\"weather_hourly_darksky.csv\", parse_dates=False)\n",
    "weather_hourly['time'] = pd.to_datetime(weather_hourly['time'], yearfirst=True)\n",
    "weather_hourly.set_index(\"time\", inplace=True)\n",
    "weather_hourly.head()"
   ]
  },
  {
   "cell_type": "code",
   "execution_count": 25,
   "id": "10258a10-ca32-4e23-b1ec-eb430cee2b7f",
   "metadata": {},
   "outputs": [
    {
     "data": {
      "text/html": [
       "<div>\n",
       "<style scoped>\n",
       "    .dataframe tbody tr th:only-of-type {\n",
       "        vertical-align: middle;\n",
       "    }\n",
       "\n",
       "    .dataframe tbody tr th {\n",
       "        vertical-align: top;\n",
       "    }\n",
       "\n",
       "    .dataframe thead th {\n",
       "        text-align: right;\n",
       "    }\n",
       "</style>\n",
       "<table border=\"1\" class=\"dataframe\">\n",
       "  <thead>\n",
       "    <tr style=\"text-align: right;\">\n",
       "      <th></th>\n",
       "      <th>visibility</th>\n",
       "      <th>windBearing</th>\n",
       "      <th>temperature</th>\n",
       "      <th>dewPoint</th>\n",
       "      <th>pressure</th>\n",
       "      <th>apparentTemperature</th>\n",
       "      <th>windSpeed</th>\n",
       "      <th>precipType</th>\n",
       "      <th>icon</th>\n",
       "      <th>humidity</th>\n",
       "      <th>summary</th>\n",
       "    </tr>\n",
       "    <tr>\n",
       "      <th>time</th>\n",
       "      <th></th>\n",
       "      <th></th>\n",
       "      <th></th>\n",
       "      <th></th>\n",
       "      <th></th>\n",
       "      <th></th>\n",
       "      <th></th>\n",
       "      <th></th>\n",
       "      <th></th>\n",
       "      <th></th>\n",
       "      <th></th>\n",
       "    </tr>\n",
       "  </thead>\n",
       "  <tbody>\n",
       "    <tr>\n",
       "      <th>2011-11-01 00:00:00</th>\n",
       "      <td>13.63</td>\n",
       "      <td>160</td>\n",
       "      <td>13.49</td>\n",
       "      <td>11.48</td>\n",
       "      <td>1008.14</td>\n",
       "      <td>13.49</td>\n",
       "      <td>3.11</td>\n",
       "      <td>rain</td>\n",
       "      <td>clear-night</td>\n",
       "      <td>0.88</td>\n",
       "      <td>Clear</td>\n",
       "    </tr>\n",
       "    <tr>\n",
       "      <th>2011-11-01 00:30:00</th>\n",
       "      <td>13.63</td>\n",
       "      <td>160</td>\n",
       "      <td>13.49</td>\n",
       "      <td>11.48</td>\n",
       "      <td>1008.14</td>\n",
       "      <td>13.49</td>\n",
       "      <td>3.11</td>\n",
       "      <td>rain</td>\n",
       "      <td>clear-night</td>\n",
       "      <td>0.88</td>\n",
       "      <td>Clear</td>\n",
       "    </tr>\n",
       "    <tr>\n",
       "      <th>2011-11-01 01:00:00</th>\n",
       "      <td>13.26</td>\n",
       "      <td>154</td>\n",
       "      <td>12.73</td>\n",
       "      <td>11.58</td>\n",
       "      <td>1007.88</td>\n",
       "      <td>12.73</td>\n",
       "      <td>3.08</td>\n",
       "      <td>rain</td>\n",
       "      <td>partly-cloudy-night</td>\n",
       "      <td>0.93</td>\n",
       "      <td>Partly Cloudy</td>\n",
       "    </tr>\n",
       "    <tr>\n",
       "      <th>2011-11-01 01:30:00</th>\n",
       "      <td>13.26</td>\n",
       "      <td>154</td>\n",
       "      <td>12.73</td>\n",
       "      <td>11.58</td>\n",
       "      <td>1007.88</td>\n",
       "      <td>12.73</td>\n",
       "      <td>3.08</td>\n",
       "      <td>rain</td>\n",
       "      <td>partly-cloudy-night</td>\n",
       "      <td>0.93</td>\n",
       "      <td>Partly Cloudy</td>\n",
       "    </tr>\n",
       "    <tr>\n",
       "      <th>2011-11-01 02:00:00</th>\n",
       "      <td>12.94</td>\n",
       "      <td>161</td>\n",
       "      <td>13.65</td>\n",
       "      <td>12.14</td>\n",
       "      <td>1007.09</td>\n",
       "      <td>13.65</td>\n",
       "      <td>3.71</td>\n",
       "      <td>rain</td>\n",
       "      <td>clear-night</td>\n",
       "      <td>0.91</td>\n",
       "      <td>Clear</td>\n",
       "    </tr>\n",
       "  </tbody>\n",
       "</table>\n",
       "</div>"
      ],
      "text/plain": [
       "                     visibility  windBearing  temperature  dewPoint  pressure  \\\n",
       "time                                                                            \n",
       "2011-11-01 00:00:00       13.63          160        13.49     11.48   1008.14   \n",
       "2011-11-01 00:30:00       13.63          160        13.49     11.48   1008.14   \n",
       "2011-11-01 01:00:00       13.26          154        12.73     11.58   1007.88   \n",
       "2011-11-01 01:30:00       13.26          154        12.73     11.58   1007.88   \n",
       "2011-11-01 02:00:00       12.94          161        13.65     12.14   1007.09   \n",
       "\n",
       "                     apparentTemperature  windSpeed precipType  \\\n",
       "time                                                             \n",
       "2011-11-01 00:00:00                13.49       3.11       rain   \n",
       "2011-11-01 00:30:00                13.49       3.11       rain   \n",
       "2011-11-01 01:00:00                12.73       3.08       rain   \n",
       "2011-11-01 01:30:00                12.73       3.08       rain   \n",
       "2011-11-01 02:00:00                13.65       3.71       rain   \n",
       "\n",
       "                                    icon  humidity        summary  \n",
       "time                                                               \n",
       "2011-11-01 00:00:00          clear-night      0.88          Clear  \n",
       "2011-11-01 00:30:00          clear-night      0.88          Clear  \n",
       "2011-11-01 01:00:00  partly-cloudy-night      0.93  Partly Cloudy  \n",
       "2011-11-01 01:30:00  partly-cloudy-night      0.93  Partly Cloudy  \n",
       "2011-11-01 02:00:00          clear-night      0.91          Clear  "
      ]
     },
     "execution_count": 25,
     "metadata": {},
     "output_type": "execute_result"
    }
   ],
   "source": [
    "#Resampling at 30min and forward fill\n",
    "weather_hourly = weather_hourly.resample(\"30min\").ffill()\n",
    "weather_hourly.head()"
   ]
  },
  {
   "cell_type": "code",
   "execution_count": 26,
   "id": "d034ec41-6e2b-42fd-ac0f-6532c93c436a",
   "metadata": {},
   "outputs": [],
   "source": [
    "def map_weather_holidays(row):\n",
    "    date_range = pd.date_range(row['start_timestamp'], periods=row['series_length'], freq=row['frequency'])\n",
    "    std_df = pd.DataFrame(index=date_range)\n",
    "    #Filling Na iwth NO_HOLIDAY cause rows before earliers holiday will be NaN\n",
    "    holidays = std_df.join(bank_holidays, how=\"left\").fillna(\"NO_HOLIDAY\")\n",
    "    weather = std_df.join(weather_hourly, how='left')\n",
    "    assert len(holidays)==row['series_length'], \"Length of holidays should be same as series length\"\n",
    "    assert len(weather)==row['series_length'], \"Length of weather should be same as series length\"\n",
    "    row['holidays'] = holidays['Type'].values\n",
    "    for col in weather:\n",
    "        row[col] = weather[col].values\n",
    "    return row"
   ]
  },
  {
   "cell_type": "code",
   "execution_count": 27,
   "id": "c272753d-a258-4292-af01-691e538c8e6f",
   "metadata": {},
   "outputs": [
    {
     "data": {
      "application/vnd.jupyter.widget-view+json": {
       "model_id": "c62d0d7ec697422f93998c31deeea65f",
       "version_major": 2,
       "version_minor": 0
      },
      "text/plain": [
       "  0%|          | 0/5560 [00:00<?, ?it/s]"
      ]
     },
     "metadata": {},
     "output_type": "display_data"
    },
    {
     "data": {
      "text/html": [
       "<div>\n",
       "<style scoped>\n",
       "    .dataframe tbody tr th:only-of-type {\n",
       "        vertical-align: middle;\n",
       "    }\n",
       "\n",
       "    .dataframe tbody tr th {\n",
       "        vertical-align: top;\n",
       "    }\n",
       "\n",
       "    .dataframe thead th {\n",
       "        text-align: right;\n",
       "    }\n",
       "</style>\n",
       "<table border=\"1\" class=\"dataframe\">\n",
       "  <thead>\n",
       "    <tr style=\"text-align: right;\">\n",
       "      <th></th>\n",
       "      <th>LCLid</th>\n",
       "      <th>start_timestamp</th>\n",
       "      <th>frequency</th>\n",
       "      <th>energy_consumption</th>\n",
       "      <th>series_length</th>\n",
       "      <th>stdorToU</th>\n",
       "      <th>Acorn</th>\n",
       "      <th>Acorn_grouped</th>\n",
       "      <th>file</th>\n",
       "      <th>holidays</th>\n",
       "      <th>...</th>\n",
       "      <th>windBearing</th>\n",
       "      <th>temperature</th>\n",
       "      <th>dewPoint</th>\n",
       "      <th>pressure</th>\n",
       "      <th>apparentTemperature</th>\n",
       "      <th>windSpeed</th>\n",
       "      <th>precipType</th>\n",
       "      <th>icon</th>\n",
       "      <th>humidity</th>\n",
       "      <th>summary</th>\n",
       "    </tr>\n",
       "  </thead>\n",
       "  <tbody>\n",
       "    <tr>\n",
       "      <th>0</th>\n",
       "      <td>MAC000002</td>\n",
       "      <td>2012-10-13</td>\n",
       "      <td>30min</td>\n",
       "      <td>[0.263, 0.2689999999999999, 0.275, 0.256, 0.21...</td>\n",
       "      <td>24144</td>\n",
       "      <td>Std</td>\n",
       "      <td>ACORN-A</td>\n",
       "      <td>Affluent</td>\n",
       "      <td>block_0</td>\n",
       "      <td>[NO_HOLIDAY, NO_HOLIDAY, NO_HOLIDAY, NO_HOLIDA...</td>\n",
       "      <td>...</td>\n",
       "      <td>[186, 186, 188, 188, 190, 190, 203, 203, 206, ...</td>\n",
       "      <td>[8.78, 8.78, 8.27, 8.27, 7.87, 7.87, 7.89, 7.8...</td>\n",
       "      <td>[6.28, 6.28, 6.21, 6.21, 6.22, 6.22, 6.76, 6.7...</td>\n",
       "      <td>[1007.7, 1007.7, 1007.36, 1007.36, 1006.73, 10...</td>\n",
       "      <td>[7.55, 7.55, 7.34, 7.34, 6.75, 6.75, 6.89, 6.8...</td>\n",
       "      <td>[2.28, 2.28, 1.81, 1.81, 1.95, 1.95, 1.83, 1.8...</td>\n",
       "      <td>[rain, rain, rain, rain, rain, rain, rain, rai...</td>\n",
       "      <td>[clear-night, clear-night, clear-night, clear-...</td>\n",
       "      <td>[0.84, 0.84, 0.87, 0.87, 0.89, 0.89, 0.93, 0.9...</td>\n",
       "      <td>[Clear, Clear, Clear, Clear, Partly Cloudy, Pa...</td>\n",
       "    </tr>\n",
       "    <tr>\n",
       "      <th>1</th>\n",
       "      <td>MAC000246</td>\n",
       "      <td>2012-01-01</td>\n",
       "      <td>30min</td>\n",
       "      <td>[0.509, 0.317, 0.253, 0.249, 0.93, 0.607, 0.10...</td>\n",
       "      <td>37872</td>\n",
       "      <td>Std</td>\n",
       "      <td>ACORN-A</td>\n",
       "      <td>Affluent</td>\n",
       "      <td>block_0</td>\n",
       "      <td>[NO_HOLIDAY, NO_HOLIDAY, NO_HOLIDAY, NO_HOLIDA...</td>\n",
       "      <td>...</td>\n",
       "      <td>[229, 229, 238, 238, 229, 229, 231, 231, 227, ...</td>\n",
       "      <td>[12.12, 12.12, 12.59, 12.59, 12.45, 12.45, 12....</td>\n",
       "      <td>[10.97, 10.97, 11.02, 11.02, 11.04, 11.04, 10....</td>\n",
       "      <td>[1008.1, 1008.1, 1007.88, 1007.88, 1007.95, 10...</td>\n",
       "      <td>[12.12, 12.12, 12.59, 12.59, 12.45, 12.45, 12....</td>\n",
       "      <td>[5.9, 5.9, 6.06, 6.06, 5.31, 5.31, 4.68, 4.68,...</td>\n",
       "      <td>[rain, rain, rain, rain, rain, rain, rain, rai...</td>\n",
       "      <td>[partly-cloudy-night, partly-cloudy-night, clo...</td>\n",
       "      <td>[0.93, 0.93, 0.9, 0.9, 0.91, 0.91, 0.93, 0.93,...</td>\n",
       "      <td>[Mostly Cloudy, Mostly Cloudy, Overcast, Overc...</td>\n",
       "    </tr>\n",
       "    <tr>\n",
       "      <th>2</th>\n",
       "      <td>MAC000450</td>\n",
       "      <td>2012-03-23</td>\n",
       "      <td>30min</td>\n",
       "      <td>[1.337, 1.426, 0.996, 0.971, 0.994, 0.952, 0.8...</td>\n",
       "      <td>33936</td>\n",
       "      <td>Std</td>\n",
       "      <td>ACORN-A</td>\n",
       "      <td>Affluent</td>\n",
       "      <td>block_0</td>\n",
       "      <td>[NO_HOLIDAY, NO_HOLIDAY, NO_HOLIDAY, NO_HOLIDA...</td>\n",
       "      <td>...</td>\n",
       "      <td>[78, 78, 73, 73, 81, 81, 80, 80, 75, 75, 71, 7...</td>\n",
       "      <td>[8.76, 8.76, 8.54, 8.54, 8.09, 8.09, 7.34, 7.3...</td>\n",
       "      <td>[7.25, 7.25, 7.12, 7.12, 7.17, 7.17, 6.68, 6.6...</td>\n",
       "      <td>[1027.41, 1027.41, 1026.91, 1026.91, 1026.54, ...</td>\n",
       "      <td>[7.59, 7.59, 7.43, 7.43, 7.24, 7.24, 7.34, 7.3...</td>\n",
       "      <td>[2.18, 2.18, 2.07, 2.07, 1.72, 1.72, 1.34, 1.3...</td>\n",
       "      <td>[rain, rain, rain, rain, rain, rain, rain, rai...</td>\n",
       "      <td>[fog, fog, fog, fog, fog, fog, fog, fog, fog, ...</td>\n",
       "      <td>[0.9, 0.9, 0.91, 0.91, 0.94, 0.94, 0.96, 0.96,...</td>\n",
       "      <td>[Foggy, Foggy, Foggy, Foggy, Foggy, Foggy, Fog...</td>\n",
       "    </tr>\n",
       "    <tr>\n",
       "      <th>3</th>\n",
       "      <td>MAC001074</td>\n",
       "      <td>2012-05-09</td>\n",
       "      <td>30min</td>\n",
       "      <td>[0.18, 0.086, 0.106, 0.173, 0.146, 0.223, 0.21...</td>\n",
       "      <td>31680</td>\n",
       "      <td>ToU</td>\n",
       "      <td>ACORN-</td>\n",
       "      <td>ACORN-</td>\n",
       "      <td>block_0</td>\n",
       "      <td>[NO_HOLIDAY, NO_HOLIDAY, NO_HOLIDAY, NO_HOLIDA...</td>\n",
       "      <td>...</td>\n",
       "      <td>[215, 215, 207, 207, 215, 215, 216, 216, 126, ...</td>\n",
       "      <td>[11.46, 11.46, 11.38, 11.38, 11.38, 11.38, 10....</td>\n",
       "      <td>[10.23, 10.23, 10.17, 10.17, 10.24, 10.24, 10....</td>\n",
       "      <td>[1007.39, 1007.39, 1007.21, 1007.21, 1007.06, ...</td>\n",
       "      <td>[11.46, 11.46, 11.38, 11.38, 11.38, 11.38, 10....</td>\n",
       "      <td>[2.35, 2.35, 2.15, 2.15, 1.84, 1.84, 1.22, 1.2...</td>\n",
       "      <td>[rain, rain, rain, rain, rain, rain, rain, rai...</td>\n",
       "      <td>[partly-cloudy-night, partly-cloudy-night, par...</td>\n",
       "      <td>[0.92, 0.92, 0.92, 0.92, 0.93, 0.93, 0.95, 0.9...</td>\n",
       "      <td>[Partly Cloudy, Partly Cloudy, Mostly Cloudy, ...</td>\n",
       "    </tr>\n",
       "    <tr>\n",
       "      <th>4</th>\n",
       "      <td>MAC003223</td>\n",
       "      <td>2012-09-18</td>\n",
       "      <td>30min</td>\n",
       "      <td>[0.076, 0.079, 0.123, 0.109, 0.051, 0.069, 0.0...</td>\n",
       "      <td>25344</td>\n",
       "      <td>Std</td>\n",
       "      <td>ACORN-A</td>\n",
       "      <td>Affluent</td>\n",
       "      <td>block_0</td>\n",
       "      <td>[NO_HOLIDAY, NO_HOLIDAY, NO_HOLIDAY, NO_HOLIDA...</td>\n",
       "      <td>...</td>\n",
       "      <td>[236, 236, 240, 240, 242, 242, 244, 244, 248, ...</td>\n",
       "      <td>[14.06, 14.06, 13.12, 13.12, 12.53, 12.53, 12....</td>\n",
       "      <td>[10.82, 10.82, 10.29, 10.29, 9.86, 9.86, 9.83,...</td>\n",
       "      <td>[1011.09, 1011.09, 1010.82, 1010.82, 1010.65, ...</td>\n",
       "      <td>[14.06, 14.06, 13.12, 13.12, 12.53, 12.53, 12....</td>\n",
       "      <td>[3.86, 3.86, 3.81, 3.81, 4.27, 4.27, 4.12, 4.1...</td>\n",
       "      <td>[rain, rain, rain, rain, rain, rain, rain, rai...</td>\n",
       "      <td>[clear-night, clear-night, clear-night, clear-...</td>\n",
       "      <td>[0.81, 0.81, 0.83, 0.83, 0.84, 0.84, 0.86, 0.8...</td>\n",
       "      <td>[Clear, Clear, Clear, Clear, Clear, Clear, Par...</td>\n",
       "    </tr>\n",
       "  </tbody>\n",
       "</table>\n",
       "<p>5 rows × 21 columns</p>\n",
       "</div>"
      ],
      "text/plain": [
       "       LCLid start_timestamp frequency  \\\n",
       "0  MAC000002      2012-10-13     30min   \n",
       "1  MAC000246      2012-01-01     30min   \n",
       "2  MAC000450      2012-03-23     30min   \n",
       "3  MAC001074      2012-05-09     30min   \n",
       "4  MAC003223      2012-09-18     30min   \n",
       "\n",
       "                                  energy_consumption  series_length stdorToU  \\\n",
       "0  [0.263, 0.2689999999999999, 0.275, 0.256, 0.21...          24144      Std   \n",
       "1  [0.509, 0.317, 0.253, 0.249, 0.93, 0.607, 0.10...          37872      Std   \n",
       "2  [1.337, 1.426, 0.996, 0.971, 0.994, 0.952, 0.8...          33936      Std   \n",
       "3  [0.18, 0.086, 0.106, 0.173, 0.146, 0.223, 0.21...          31680      ToU   \n",
       "4  [0.076, 0.079, 0.123, 0.109, 0.051, 0.069, 0.0...          25344      Std   \n",
       "\n",
       "     Acorn Acorn_grouped     file  \\\n",
       "0  ACORN-A      Affluent  block_0   \n",
       "1  ACORN-A      Affluent  block_0   \n",
       "2  ACORN-A      Affluent  block_0   \n",
       "3   ACORN-        ACORN-  block_0   \n",
       "4  ACORN-A      Affluent  block_0   \n",
       "\n",
       "                                            holidays  ...  \\\n",
       "0  [NO_HOLIDAY, NO_HOLIDAY, NO_HOLIDAY, NO_HOLIDA...  ...   \n",
       "1  [NO_HOLIDAY, NO_HOLIDAY, NO_HOLIDAY, NO_HOLIDA...  ...   \n",
       "2  [NO_HOLIDAY, NO_HOLIDAY, NO_HOLIDAY, NO_HOLIDA...  ...   \n",
       "3  [NO_HOLIDAY, NO_HOLIDAY, NO_HOLIDAY, NO_HOLIDA...  ...   \n",
       "4  [NO_HOLIDAY, NO_HOLIDAY, NO_HOLIDAY, NO_HOLIDA...  ...   \n",
       "\n",
       "                                         windBearing  \\\n",
       "0  [186, 186, 188, 188, 190, 190, 203, 203, 206, ...   \n",
       "1  [229, 229, 238, 238, 229, 229, 231, 231, 227, ...   \n",
       "2  [78, 78, 73, 73, 81, 81, 80, 80, 75, 75, 71, 7...   \n",
       "3  [215, 215, 207, 207, 215, 215, 216, 216, 126, ...   \n",
       "4  [236, 236, 240, 240, 242, 242, 244, 244, 248, ...   \n",
       "\n",
       "                                         temperature  \\\n",
       "0  [8.78, 8.78, 8.27, 8.27, 7.87, 7.87, 7.89, 7.8...   \n",
       "1  [12.12, 12.12, 12.59, 12.59, 12.45, 12.45, 12....   \n",
       "2  [8.76, 8.76, 8.54, 8.54, 8.09, 8.09, 7.34, 7.3...   \n",
       "3  [11.46, 11.46, 11.38, 11.38, 11.38, 11.38, 10....   \n",
       "4  [14.06, 14.06, 13.12, 13.12, 12.53, 12.53, 12....   \n",
       "\n",
       "                                            dewPoint  \\\n",
       "0  [6.28, 6.28, 6.21, 6.21, 6.22, 6.22, 6.76, 6.7...   \n",
       "1  [10.97, 10.97, 11.02, 11.02, 11.04, 11.04, 10....   \n",
       "2  [7.25, 7.25, 7.12, 7.12, 7.17, 7.17, 6.68, 6.6...   \n",
       "3  [10.23, 10.23, 10.17, 10.17, 10.24, 10.24, 10....   \n",
       "4  [10.82, 10.82, 10.29, 10.29, 9.86, 9.86, 9.83,...   \n",
       "\n",
       "                                            pressure  \\\n",
       "0  [1007.7, 1007.7, 1007.36, 1007.36, 1006.73, 10...   \n",
       "1  [1008.1, 1008.1, 1007.88, 1007.88, 1007.95, 10...   \n",
       "2  [1027.41, 1027.41, 1026.91, 1026.91, 1026.54, ...   \n",
       "3  [1007.39, 1007.39, 1007.21, 1007.21, 1007.06, ...   \n",
       "4  [1011.09, 1011.09, 1010.82, 1010.82, 1010.65, ...   \n",
       "\n",
       "                                 apparentTemperature  \\\n",
       "0  [7.55, 7.55, 7.34, 7.34, 6.75, 6.75, 6.89, 6.8...   \n",
       "1  [12.12, 12.12, 12.59, 12.59, 12.45, 12.45, 12....   \n",
       "2  [7.59, 7.59, 7.43, 7.43, 7.24, 7.24, 7.34, 7.3...   \n",
       "3  [11.46, 11.46, 11.38, 11.38, 11.38, 11.38, 10....   \n",
       "4  [14.06, 14.06, 13.12, 13.12, 12.53, 12.53, 12....   \n",
       "\n",
       "                                           windSpeed  \\\n",
       "0  [2.28, 2.28, 1.81, 1.81, 1.95, 1.95, 1.83, 1.8...   \n",
       "1  [5.9, 5.9, 6.06, 6.06, 5.31, 5.31, 4.68, 4.68,...   \n",
       "2  [2.18, 2.18, 2.07, 2.07, 1.72, 1.72, 1.34, 1.3...   \n",
       "3  [2.35, 2.35, 2.15, 2.15, 1.84, 1.84, 1.22, 1.2...   \n",
       "4  [3.86, 3.86, 3.81, 3.81, 4.27, 4.27, 4.12, 4.1...   \n",
       "\n",
       "                                          precipType  \\\n",
       "0  [rain, rain, rain, rain, rain, rain, rain, rai...   \n",
       "1  [rain, rain, rain, rain, rain, rain, rain, rai...   \n",
       "2  [rain, rain, rain, rain, rain, rain, rain, rai...   \n",
       "3  [rain, rain, rain, rain, rain, rain, rain, rai...   \n",
       "4  [rain, rain, rain, rain, rain, rain, rain, rai...   \n",
       "\n",
       "                                                icon  \\\n",
       "0  [clear-night, clear-night, clear-night, clear-...   \n",
       "1  [partly-cloudy-night, partly-cloudy-night, clo...   \n",
       "2  [fog, fog, fog, fog, fog, fog, fog, fog, fog, ...   \n",
       "3  [partly-cloudy-night, partly-cloudy-night, par...   \n",
       "4  [clear-night, clear-night, clear-night, clear-...   \n",
       "\n",
       "                                            humidity  \\\n",
       "0  [0.84, 0.84, 0.87, 0.87, 0.89, 0.89, 0.93, 0.9...   \n",
       "1  [0.93, 0.93, 0.9, 0.9, 0.91, 0.91, 0.93, 0.93,...   \n",
       "2  [0.9, 0.9, 0.91, 0.91, 0.94, 0.94, 0.96, 0.96,...   \n",
       "3  [0.92, 0.92, 0.92, 0.92, 0.93, 0.93, 0.95, 0.9...   \n",
       "4  [0.81, 0.81, 0.83, 0.83, 0.84, 0.84, 0.86, 0.8...   \n",
       "\n",
       "                                             summary  \n",
       "0  [Clear, Clear, Clear, Clear, Partly Cloudy, Pa...  \n",
       "1  [Mostly Cloudy, Mostly Cloudy, Overcast, Overc...  \n",
       "2  [Foggy, Foggy, Foggy, Foggy, Foggy, Foggy, Fog...  \n",
       "3  [Partly Cloudy, Partly Cloudy, Mostly Cloudy, ...  \n",
       "4  [Clear, Clear, Clear, Clear, Clear, Clear, Par...  \n",
       "\n",
       "[5 rows x 21 columns]"
      ]
     },
     "execution_count": 27,
     "metadata": {},
     "output_type": "execute_result"
    }
   ],
   "source": [
    "hhblock_df = hhblock_df.progress_apply(map_weather_holidays, axis=1)\n",
    "\n",
    "hhblock_df.head()"
   ]
  },
  {
   "cell_type": "code",
   "execution_count": 28,
   "id": "491d9e6f-00ce-4984-979d-1d0c44416b3c",
   "metadata": {
    "tags": []
   },
   "outputs": [],
   "source": [
    "del block_df, weather_hourly, bank_holidays, household_info"
   ]
  },
  {
   "cell_type": "code",
   "execution_count": 29,
   "id": "e25a315b-3f17-4c82-801a-2c96da54ab0e",
   "metadata": {},
   "outputs": [
    {
     "data": {
      "text/plain": [
       "Index                   44480\n",
       "LCLid                  366960\n",
       "start_timestamp         44480\n",
       "frequency              344720\n",
       "energy_consumption     622720\n",
       "series_length           44480\n",
       "stdorToU               333600\n",
       "Acorn                  355838\n",
       "Acorn_grouped          367675\n",
       "file                   361465\n",
       "holidays               622720\n",
       "visibility             622720\n",
       "windBearing            622720\n",
       "temperature            622720\n",
       "dewPoint               622720\n",
       "pressure               622720\n",
       "apparentTemperature    622720\n",
       "windSpeed              622720\n",
       "precipType             622720\n",
       "icon                   622720\n",
       "humidity               622720\n",
       "summary                622720\n",
       "dtype: int64"
      ]
     },
     "metadata": {},
     "output_type": "display_data"
    },
    {
     "name": "stdout",
     "output_type": "stream",
     "text": [
      "Total: 9.879167556762695 MB\n"
     ]
    }
   ],
   "source": [
    "display(hhblock_df.memory_usage(deep=True))\n",
    "print(f\"Total: {hhblock_df.memory_usage(deep=True).sum()/1024**2} MB\")"
   ]
  },
  {
   "cell_type": "markdown",
   "id": "1acf0dba-a6a3-44df-bde0-44641466a322",
   "metadata": {},
   "source": [
    "### Saving the file on disk"
   ]
  },
  {
   "cell_type": "markdown",
   "id": "080995b2-4895-4944-9f31-b5463d7935d0",
   "metadata": {},
   "source": [
    "Saving the entire dataset in a ts file"
   ]
  },
  {
   "cell_type": "code",
   "execution_count": null,
   "id": "2c7b67d9-3007-4eb0-9aeb-a21a3cc0161c",
   "metadata": {},
   "outputs": [],
   "source": [
    "os.makedirs(\"data/london_smart_meters/preprocessed\", exist_ok=True)"
   ]
  },
  {
   "cell_type": "code",
   "execution_count": 34,
   "id": "d627cbba-e116-4aa4-8be0-a72d1a5181c8",
   "metadata": {},
   "outputs": [
    {
     "data": {
      "application/vnd.jupyter.widget-view+json": {
       "model_id": "05a3f7f0acb242d3a97eccfda070367c",
       "version_major": 2,
       "version_minor": 0
      },
      "text/plain": [
       "Writing in Chunks...:   0%|          | 0/6 [00:00<?, ?it/s]"
      ]
     },
     "metadata": {},
     "output_type": "display_data"
    },
    {
     "data": {
      "application/vnd.jupyter.widget-view+json": {
       "model_id": "88a8461f87b64a00a1281ec5e053d0a6",
       "version_major": 2,
       "version_minor": 0
      },
      "text/plain": [
       "  0%|          | 0/1000 [00:00<?, ?it/s]"
      ]
     },
     "metadata": {},
     "output_type": "display_data"
    },
    {
     "data": {
      "application/vnd.jupyter.widget-view+json": {
       "model_id": "c0c39220ffec4e2f897189c50d0c4851",
       "version_major": 2,
       "version_minor": 0
      },
      "text/plain": [
       "  0%|          | 0/1000 [00:05<?, ?it/s]"
      ]
     },
     "metadata": {},
     "output_type": "display_data"
    },
    {
     "data": {
      "application/vnd.jupyter.widget-view+json": {
       "model_id": "38c01426289a430a9ba2dafb02cbcc45",
       "version_major": 2,
       "version_minor": 0
      },
      "text/plain": [
       "  0%|          | 0/1000 [00:02<?, ?it/s]"
      ]
     },
     "metadata": {},
     "output_type": "display_data"
    },
    {
     "data": {
      "application/vnd.jupyter.widget-view+json": {
       "model_id": "78c0101c761f4bd09c253afaf1a1c159",
       "version_major": 2,
       "version_minor": 0
      },
      "text/plain": [
       "  0%|          | 0/1000 [00:00<?, ?it/s]"
      ]
     },
     "metadata": {},
     "output_type": "display_data"
    },
    {
     "data": {
      "application/vnd.jupyter.widget-view+json": {
       "model_id": "c02cf402254d41c4b624f6e832b10eaa",
       "version_major": 2,
       "version_minor": 0
      },
      "text/plain": [
       "  0%|          | 0/1000 [00:00<?, ?it/s]"
      ]
     },
     "metadata": {},
     "output_type": "display_data"
    },
    {
     "data": {
      "application/vnd.jupyter.widget-view+json": {
       "model_id": "9d7535e33bcf4b3aa368223f89aa903a",
       "version_major": 2,
       "version_minor": 0
      },
      "text/plain": [
       "  0%|          | 0/560 [00:00<?, ?it/s]"
      ]
     },
     "metadata": {},
     "output_type": "display_data"
    }
   ],
   "source": [
    "#Takes a long time to finish. Comment out and execute only if needed\n",
    "# from src.utils.data_utils import write_compact_to_ts\n",
    "# write_compact_to_ts(hhblock_df,\n",
    "#        static_columns = ['LCLid', 'start_timestamp', 'frequency','series_length', 'stdorToU', 'Acorn', 'Acorn_grouped', 'file'], \n",
    "#        time_varying_columns = ['energy_consumption', 'holidays', 'visibility', 'windBearing', 'temperature', 'dewPoint',\n",
    "#                               'pressure', 'apparentTemperature', 'windSpeed', 'precipType', 'icon','humidity', 'summary'],\n",
    "#        filename=f\"data/london_smart_meters/preprocessed/london_smart_meters_merged.ts\",\n",
    "#        sep=\";\",\n",
    "#       chunk_size=1000)"
   ]
  },
  {
   "cell_type": "code",
   "execution_count": 33,
   "id": "616395a6-8d70-44ec-aa8f-36293cdebcd1",
   "metadata": {},
   "outputs": [],
   "source": [
    "# Saving the LCLid - Acorn map as a pickle to be used later\n",
    "hhblock_df[['LCLid',\"file\", \"Acorn_grouped\"]].to_pickle(f\"data/london_smart_meters/preprocessed/london_smart_meters_lclid_acorn_map.pkl\")"
   ]
  },
  {
   "cell_type": "markdown",
   "id": "c3c637a5-99ac-421a-9562-a25ae0d71f13",
   "metadata": {},
   "source": [
    "Saving blocks in 8 chunks as parquet"
   ]
  },
  {
   "cell_type": "code",
   "execution_count": 35,
   "id": "c7f3f53c-11e4-4dcc-9449-a043419f7162",
   "metadata": {},
   "outputs": [],
   "source": [
    "# Splitting the blocks into 8 chunks\n",
    "blocks = [f\"block_{i}\" for i in range(111)]\n",
    "\n",
    "n_chunks= 8\n",
    "split_blocks = [blocks[i:i + n_chunks] for i in range(0, len(blocks), n_chunks)] "
   ]
  },
  {
   "cell_type": "code",
   "execution_count": 36,
   "id": "29a6235e-73cb-4c6e-a320-d5d77776f6e8",
   "metadata": {
    "tags": []
   },
   "outputs": [
    {
     "data": {
      "application/vnd.jupyter.widget-view+json": {
       "model_id": "87e2466620e74d569f41fc3932f1f32b",
       "version_major": 2,
       "version_minor": 0
      },
      "text/plain": [
       "  0%|          | 0/14 [00:00<?, ?it/s]"
      ]
     },
     "metadata": {},
     "output_type": "display_data"
    }
   ],
   "source": [
    "#Writing each chunk to disk\n",
    "for blk in tqdm(split_blocks):\n",
    "    df = hhblock_df.loc[hhblock_df.file.isin(blk)]\n",
    "    blk = [int(b.replace(\"block_\",\"\")) for b in blk]\n",
    "    block_str = f\"block_{min(blk)}-{max(blk)}\"\n",
    "    df.to_parquet(f\"data/london_smart_meters/preprocessed/london_smart_meters_merged_{block_str}.parquet\")"
   ]
  }
 ],
 "metadata": {
  "kernelspec": {
   "display_name": "modern_ts",
   "language": "python",
   "name": "python3"
  },
  "language_info": {
   "codemirror_mode": {
    "name": "ipython",
    "version": 3
   },
   "file_extension": ".py",
   "mimetype": "text/x-python",
   "name": "python",
   "nbconvert_exporter": "python",
   "pygments_lexer": "ipython3",
   "version": "3.8.19"
  },
  "vscode": {
   "interpreter": {
    "hash": "30fe1d27e07bcd39a201a380e0896b1a8ddc5b4c0f1bff527b499634c2e361cc"
   }
  }
 },
 "nbformat": 4,
 "nbformat_minor": 5
}
